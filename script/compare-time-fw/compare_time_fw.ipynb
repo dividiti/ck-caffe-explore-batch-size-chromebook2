{
 "cells": [
  {
   "cell_type": "markdown",
   "metadata": {},
   "source": [
    "# Compare performance of 4 CNNs on Chromebook 2"
   ]
  },
  {
   "cell_type": "markdown",
   "metadata": {},
   "source": [
    "We compare **performance** of inference (forward propagation):\n",
    "\n",
    "- of 4 different CNN **models** (net architecture + weights):\n",
    "  - [AlexNet](https://github.com/BVLC/caffe/tree/master/models/bvlc_alexnet);\n",
    "  - [SqueezeNet 1.0](https://github.com/DeepScale/SqueezeNet/tree/master/SqueezeNet_v1.0);\n",
    "  - [SqueezeNet 1.1](https://github.com/DeepScale/SqueezeNet/tree/master/SqueezeNet_v1.1);\n",
    "  - [GoogleNet](https://github.com/BVLC/caffe/tree/master/models/bvlc_googlenet);\n",
    "\n",
    "- with 4 different **libraries**:\n",
    "\n",
    "  - [CPU] [OpenBLAS](https://github.com/xianyi/OpenBLAS) 0.2.18 (one thread per core);\n",
    "  - [GPU] [clBLAS](https://github.com/clMathLibraries/clBLAS) 2.4 (OpenCL 1.1 compatible);\n",
    "  - [GPU] [CLBlast](https://github.com/CNugteren/CLBlast) dev (35623cd > 0.8.0);\n",
    "  - [GPU] [CLBlast](https://github.com/CNugteren/CLBlast) dev (35623cd > 0.8.0) with Mali-optimized [overlay](https://github.com/intelfx/CLBlast/tree/mali-overlay) (641bb07);\n",
    "  \n",
    "- on the [Samsung Chromebook 2](http://www.samsung.com/us/computing/chromebooks/under-12/samsung-chromebook-2-11-6-xe503c12-k01us/) **platform**:\n",
    "  - [CPU] quad-core ARM Cortex-A15 @ 1900 MHz;\n",
    "  - [GPU] quad-core ARM Mali-T628 @ 600 MHz;\n",
    "  - [GPU] OpenCL driver 6.0 (r6p0);\n",
    "  - [GPU] OpenCL standard 1.1;\n",
    "  - [RAM] 2 GB;\n",
    "  - Gentoo Linux [over](community.arm.com/groups/arm-mali-graphics/blog/2014/12/18/installing-opencl-on-chromebook-2-in-30-minutes) ChromeOS with `/etc/lsb-release`:\n",
    "```\n",
    "CHROMEOS_AUSERVER=https://tools.google.com/service/update2\n",
    "CHROMEOS_BOARD_APPID={24E2E4F7-F92C-6115-3E26-02C7EAA02946}\n",
    "CHROMEOS_CANARY_APPID={90F229CE-83E2-4FAF-8479-E368A34938B1}\n",
    "CHROMEOS_DEVSERVER=\n",
    "CHROMEOS_RELEASE_APPID={24E2E4F7-F92C-6115-3E26-02C7EAA02946}\n",
    "CHROMEOS_RELEASE_BOARD=peach_pit-signed-mp-v2keys\n",
    "CHROMEOS_RELEASE_BRANCH_NUMBER=68\n",
    "CHROMEOS_RELEASE_BUILD_NUMBER=8350\n",
    "CHROMEOS_RELEASE_BUILD_TYPE=Official Build\n",
    "CHROMEOS_RELEASE_CHROME_MILESTONE=52\n",
    "CHROMEOS_RELEASE_DESCRIPTION=8350.68.0 (Official Build) stable-channel peach_pit \n",
    "CHROMEOS_RELEASE_NAME=Chrome OS\n",
    "CHROMEOS_RELEASE_PATCH_NUMBER=0\n",
    "CHROMEOS_RELEASE_TRACK=stable-channel\n",
    "CHROMEOS_RELEASE_VERSION=8350.68.0\n",
    "DEVICETYPE=CHROMEBOOK\n",
    "GOOGLE_RELEASE=8350.68.0\n",
    "```"
   ]
  },
  {
   "cell_type": "markdown",
   "metadata": {},
   "source": [
    "## Includes"
   ]
  },
  {
   "cell_type": "markdown",
   "metadata": {},
   "source": [
    "### Collective Knowledge"
   ]
  },
  {
   "cell_type": "code",
   "execution_count": null,
   "metadata": {
    "collapsed": false
   },
   "outputs": [],
   "source": [
    "import ck.kernel as ck\n",
    "print ('CK version: %s' % ck.__version__)"
   ]
  },
  {
   "cell_type": "markdown",
   "metadata": {},
   "source": [
    "### Scientific"
   ]
  },
  {
   "cell_type": "code",
   "execution_count": null,
   "metadata": {
    "collapsed": false
   },
   "outputs": [],
   "source": [
    "import math\n",
    "import IPython as ip\n",
    "import numpy as np\n",
    "import scipy as sp\n",
    "import pandas as pd\n",
    "import matplotlib as mp"
   ]
  },
  {
   "cell_type": "code",
   "execution_count": null,
   "metadata": {
    "collapsed": false
   },
   "outputs": [],
   "source": [
    "print ('IPython version: %s' % ip.__version__)\n",
    "print ('NumPy version: %s' % np.__version__)\n",
    "print ('SciPy version: %s' % sp.__version__)\n",
    "print ('Pandas version: %s' % pd.__version__)\n",
    "print ('Matplotlib version: %s' % mp.__version__)"
   ]
  },
  {
   "cell_type": "code",
   "execution_count": null,
   "metadata": {
    "collapsed": true
   },
   "outputs": [],
   "source": [
    "from matplotlib import cm\n",
    "%matplotlib inline"
   ]
  },
  {
   "cell_type": "markdown",
   "metadata": {},
   "source": [
    "## Access experimental results"
   ]
  },
  {
   "cell_type": "code",
   "execution_count": null,
   "metadata": {
    "collapsed": true
   },
   "outputs": [],
   "source": [
    "def search_experimental_points_by_tags(tags):\n",
    "    r=ck.access({'action':'get', 'module_uoa':'experiment', 'tags':tags, 'load_json_files':['0001']})\n",
    "    if r['return']>0:\n",
    "        print (\"Error: %s\" % r['error'])\n",
    "        exit(1)\n",
    "    # FIXME: For now, assume a single entry per the given tags.\n",
    "    results = {}\n",
    "    for point in r['points']:\n",
    "            point_data_raw = point['0001']\n",
    "            point_data_dict = {}\n",
    "            time_fw_ms = [\n",
    "                characteristics['run']['time_fw_ms'] \n",
    "                for characteristics in point_data_raw['characteristics_list']\n",
    "                if characteristics['run']['run_success'] == 'yes'\n",
    "            ]\n",
    "            batch_size = point_data_raw['choices']['env']['CK_CAFFE_BATCH_SIZE']\n",
    "            results[batch_size] = time_fw_ms\n",
    "    return results"
   ]
  },
  {
   "cell_type": "code",
   "execution_count": null,
   "metadata": {
    "collapsed": false
   },
   "outputs": [],
   "source": [
    "def get_min_time_per_image(results):\n",
    "    df = pd.DataFrame(data=results)\n",
    "    df.columns.name = 'Batch size'\n",
    "    df.index.name = 'Repetition'\n",
    "    df_stats = df.describe()\n",
    "    min_time_per_image_idx = (df_stats.ix['mean'] / df.columns).idxmin()\n",
    "    if not math.isnan(min_time_per_image_idx):\n",
    "        mean = (df_stats[min_time_per_image_idx] / min_time_per_image_idx)['mean']\n",
    "        std =  (df_stats[min_time_per_image_idx] / min_time_per_image_idx)['std']\n",
    "        return (mean, std)\n",
    "    else:\n",
    "        return (None, None)"
   ]
  },
  {
   "cell_type": "markdown",
   "metadata": {},
   "source": [
    "### AlexNet"
   ]
  },
  {
   "cell_type": "code",
   "execution_count": null,
   "metadata": {
    "collapsed": false
   },
   "outputs": [],
   "source": [
    "alexnet_clblas_tags = 'chromebook2,time,caffemodel,alexnet,clblas'\n",
    "alexnet_clblas_results = search_experimental_points_by_tags(alexnet_clblas_tags)\n",
    "alexnet_clblas_min_time_per_image = get_min_time_per_image(alexnet_clblas_results)\n",
    "alexnet_clblas_min_time_per_image"
   ]
  },
  {
   "cell_type": "code",
   "execution_count": null,
   "metadata": {
    "collapsed": false
   },
   "outputs": [],
   "source": [
    "alexnet_clblast_development_tags = 'chromebook2,time,caffemodel,alexnet,clblast,vdevelopment'\n",
    "alexnet_clblast_development_results = search_experimental_points_by_tags(alexnet_clblast_development_tags)\n",
    "alexnet_clblast_development_min_time_per_image = get_min_time_per_image(alexnet_clblast_development_results)\n",
    "alexnet_clblast_development_min_time_per_image"
   ]
  },
  {
   "cell_type": "code",
   "execution_count": null,
   "metadata": {
    "collapsed": false
   },
   "outputs": [],
   "source": [
    "alexnet_clblast_mali_overlay_tags = 'chromebook2,time,caffemodel,alexnet,clblast,vmali-overlay'\n",
    "alexnet_clblast_mali_overlay_results = search_experimental_points_by_tags(alexnet_clblast_mali_overlay_tags)\n",
    "alexnet_clblast_mali_overlay_min_time_per_image = get_min_time_per_image(alexnet_clblast_mali_overlay_results)\n",
    "alexnet_clblast_mali_overlay_min_time_per_image"
   ]
  },
  {
   "cell_type": "code",
   "execution_count": null,
   "metadata": {
    "collapsed": false
   },
   "outputs": [],
   "source": [
    "alexnet_openblas_tags = 'chromebook2,time,caffemodel,alexnet,openblas'\n",
    "alexnet_openblas_results = search_experimental_points_by_tags(alexnet_openblas_tags)\n",
    "alexnet_openblas_min_time_per_image = get_min_time_per_image(alexnet_openblas_results)\n",
    "alexnet_openblas_min_time_per_image"
   ]
  },
  {
   "cell_type": "markdown",
   "metadata": {},
   "source": [
    "### SqueezeNet 1.0"
   ]
  },
  {
   "cell_type": "code",
   "execution_count": null,
   "metadata": {
    "collapsed": false
   },
   "outputs": [],
   "source": [
    "squeezenet_1_0_clblas_tags = 'chromebook2,time,caffemodel,squeezenet-1.0,clblas'\n",
    "squeezenet_1_0_clblas_results = search_experimental_points_by_tags(squeezenet_1_0_clblas_tags)\n",
    "squeezenet_1_0_clblas_min_time_per_image = get_min_time_per_image(squeezenet_1_0_clblas_results)\n",
    "squeezenet_1_0_clblas_min_time_per_image"
   ]
  },
  {
   "cell_type": "code",
   "execution_count": null,
   "metadata": {
    "collapsed": false
   },
   "outputs": [],
   "source": [
    "squeezenet_1_0_clblast_development_tags = 'chromebook2,time,caffemodel,squeezenet-1.0,clblast,vdevelopment'\n",
    "squeezenet_1_0_clblast_development_results = search_experimental_points_by_tags(squeezenet_1_0_clblast_development_tags)\n",
    "squeezenet_1_0_clblast_development_min_time_per_image = get_min_time_per_image(squeezenet_1_0_clblast_development_results)\n",
    "squeezenet_1_0_clblast_development_min_time_per_image"
   ]
  },
  {
   "cell_type": "code",
   "execution_count": null,
   "metadata": {
    "collapsed": false
   },
   "outputs": [],
   "source": [
    "squeezenet_1_0_clblast_mali_overlay_tags = 'chromebook2,time,caffemodel,squeezenet-1.0,clblast,vmali-overlay'\n",
    "squeezenet_1_0_clblast_mali_overlay_results = search_experimental_points_by_tags(squeezenet_1_0_clblast_mali_overlay_tags)\n",
    "squeezenet_1_0_clblast_mali_overlay_min_time_per_image = get_min_time_per_image(squeezenet_1_0_clblast_mali_overlay_results)\n",
    "squeezenet_1_0_clblast_mali_overlay_min_time_per_image"
   ]
  },
  {
   "cell_type": "code",
   "execution_count": null,
   "metadata": {
    "collapsed": false
   },
   "outputs": [],
   "source": [
    "squeezenet_1_0_openblas_tags = 'chromebook2,time,caffemodel,squeezenet-1.0,openblas'\n",
    "squeezenet_1_0_openblas_results = search_experimental_points_by_tags(squeezenet_1_0_openblas_tags)\n",
    "squeezenet_1_0_openblas_min_time_per_image = get_min_time_per_image(squeezenet_1_0_openblas_results)\n",
    "squeezenet_1_0_openblas_min_time_per_image"
   ]
  },
  {
   "cell_type": "markdown",
   "metadata": {},
   "source": [
    "### SqueezeNet 1.1"
   ]
  },
  {
   "cell_type": "code",
   "execution_count": null,
   "metadata": {
    "collapsed": false
   },
   "outputs": [],
   "source": [
    "squeezenet_1_1_clblas_tags = 'chromebook2,time,caffemodel,squeezenet-1.1,clblas'\n",
    "squeezenet_1_1_clblas_results = search_experimental_points_by_tags(squeezenet_1_1_clblas_tags)\n",
    "squeezenet_1_1_clblas_min_time_per_image = get_min_time_per_image(squeezenet_1_1_clblas_results)\n",
    "squeezenet_1_1_clblas_min_time_per_image"
   ]
  },
  {
   "cell_type": "code",
   "execution_count": null,
   "metadata": {
    "collapsed": false
   },
   "outputs": [],
   "source": [
    "squeezenet_1_1_clblast_development_tags = 'chromebook2,time,caffemodel,squeezenet-1.1,clblast,vdevelopment'\n",
    "squeezenet_1_1_clblast_development_results = search_experimental_points_by_tags(squeezenet_1_1_clblast_development_tags)\n",
    "squeezenet_1_1_clblast_development_min_time_per_image = get_min_time_per_image(squeezenet_1_1_clblast_development_results)\n",
    "squeezenet_1_1_clblast_development_min_time_per_image"
   ]
  },
  {
   "cell_type": "code",
   "execution_count": null,
   "metadata": {
    "collapsed": false
   },
   "outputs": [],
   "source": [
    "squeezenet_1_1_clblast_mali_overlay_tags = 'chromebook2,time,caffemodel,squeezenet-1.1,clblast,vmali-overlay'\n",
    "squeezenet_1_1_clblast_mali_overlay_results = search_experimental_points_by_tags(squeezenet_1_1_clblast_mali_overlay_tags)\n",
    "squeezenet_1_1_clblast_mali_overlay_min_time_per_image = get_min_time_per_image(squeezenet_1_1_clblast_mali_overlay_results)\n",
    "squeezenet_1_1_clblast_mali_overlay_min_time_per_image"
   ]
  },
  {
   "cell_type": "code",
   "execution_count": null,
   "metadata": {
    "collapsed": false
   },
   "outputs": [],
   "source": [
    "squeezenet_1_1_openblas_tags = 'chromebook2,time,caffemodel,squeezenet-1.1,openblas'\n",
    "squeezenet_1_1_openblas_results = search_experimental_points_by_tags(squeezenet_1_1_openblas_tags)\n",
    "squeezenet_1_1_openblas_min_time_per_image = get_min_time_per_image(squeezenet_1_1_openblas_results)\n",
    "squeezenet_1_1_openblas_min_time_per_image"
   ]
  },
  {
   "cell_type": "markdown",
   "metadata": {},
   "source": [
    "### GoogleNet"
   ]
  },
  {
   "cell_type": "code",
   "execution_count": null,
   "metadata": {
    "collapsed": false
   },
   "outputs": [],
   "source": [
    "googlenet_clblas_tags = 'chromebook2,time,caffemodel,googlenet,clblas'\n",
    "googlenet_clblas_results = search_experimental_points_by_tags(googlenet_clblas_tags)\n",
    "googlenet_clblas_min_time_per_image = get_min_time_per_image(googlenet_clblas_results)\n",
    "googlenet_clblas_min_time_per_image"
   ]
  },
  {
   "cell_type": "code",
   "execution_count": null,
   "metadata": {
    "collapsed": false
   },
   "outputs": [],
   "source": [
    "googlenet_clblast_development_tags = 'chromebook2,time,caffemodel,googlenet,clblast,vdevelopment'\n",
    "googlenet_clblast_development_results = search_experimental_points_by_tags(googlenet_clblast_development_tags)\n",
    "googlenet_clblast_development_min_time_per_image = get_min_time_per_image(googlenet_clblast_development_results)\n",
    "googlenet_clblast_development_min_time_per_image"
   ]
  },
  {
   "cell_type": "code",
   "execution_count": null,
   "metadata": {
    "collapsed": false
   },
   "outputs": [],
   "source": [
    "googlenet_clblast_mali_overlay_tags = 'chromebook2,time,caffemodel,googlenet,clblast,vmali-overlay'\n",
    "googlenet_clblast_mali_overlay_results = search_experimental_points_by_tags(googlenet_clblast_mali_overlay_tags)\n",
    "googlenet_clblast_mali_overlay_min_time_per_image = get_min_time_per_image(googlenet_clblast_mali_overlay_results)\n",
    "googlenet_clblast_mali_overlay_min_time_per_image"
   ]
  },
  {
   "cell_type": "code",
   "execution_count": null,
   "metadata": {
    "collapsed": false
   },
   "outputs": [],
   "source": [
    "googlenet_openblas_tags = 'chromebook2,time,caffemodel,googlenet,openblas'\n",
    "googlenet_openblas_results = search_experimental_points_by_tags(googlenet_openblas_tags)\n",
    "googlenet_openblas_min_time_per_image = get_min_time_per_image(googlenet_openblas_results)\n",
    "googlenet_openblas_min_time_per_image"
   ]
  },
  {
   "cell_type": "markdown",
   "metadata": {},
   "source": [
    "## Data frame"
   ]
  },
  {
   "cell_type": "code",
   "execution_count": null,
   "metadata": {
    "collapsed": true
   },
   "outputs": [],
   "source": [
    "def extract_by_component(idx):\n",
    "    data = {\n",
    "        'AlexNet' : {\n",
    "            'OpenBLAS: v0.2.18'     : alexnet_openblas_min_time_per_image[idx],\n",
    "            'clBLAS: v2.4'          : alexnet_clblas_min_time_per_image[idx],\n",
    "            'CLBlast: development'  : alexnet_clblast_development_min_time_per_image[idx],\n",
    "            'CLBlast: Mali overlay' : alexnet_clblast_mali_overlay_min_time_per_image[idx]\n",
    "        },\n",
    "        'SqueezeNet 1.0' : {\n",
    "            'OpenBLAS: v0.2.18'     : squeezenet_1_0_openblas_min_time_per_image[idx],\n",
    "            'clBLAS: v2.4'          : squeezenet_1_0_clblas_min_time_per_image[idx],\n",
    "            'CLBlast: development'  : squeezenet_1_0_clblast_development_min_time_per_image[idx],\n",
    "            'CLBlast: Mali overlay' : squeezenet_1_0_clblast_mali_overlay_min_time_per_image[idx]\n",
    "        },\n",
    "        'SqueezeNet 1.1' : {\n",
    "            'OpenBLAS: v0.2.18'     : squeezenet_1_1_openblas_min_time_per_image[idx],\n",
    "            'clBLAS: v2.4'          : squeezenet_1_1_clblas_min_time_per_image[idx],\n",
    "            'CLBlast: development'  : squeezenet_1_1_clblast_development_min_time_per_image[idx],\n",
    "            'CLBlast: Mali overlay' : squeezenet_1_1_clblast_mali_overlay_min_time_per_image[idx]\n",
    "        },\n",
    "        'GoogleNet' : {\n",
    "            'OpenBLAS: v0.2.18'     : googlenet_openblas_min_time_per_image[idx],\n",
    "            'clBLAS: v2.4'          : googlenet_clblas_min_time_per_image[idx],\n",
    "            'CLBlast: development'  : googlenet_clblast_development_min_time_per_image[idx],\n",
    "            'CLBlast: Mali overlay' : googlenet_clblast_mali_overlay_min_time_per_image[idx]\n",
    "        },\n",
    "    }\n",
    "    return data"
   ]
  },
  {
   "cell_type": "code",
   "execution_count": null,
   "metadata": {
    "collapsed": false
   },
   "outputs": [],
   "source": [
    "df_mean = pd.DataFrame(extract_by_component(0))\n",
    "df_mean"
   ]
  },
  {
   "cell_type": "code",
   "execution_count": null,
   "metadata": {
    "collapsed": false
   },
   "outputs": [],
   "source": [
    "df_std = pd.DataFrame(extract_by_component(1))\n",
    "df_std"
   ]
  },
  {
   "cell_type": "markdown",
   "metadata": {},
   "source": [
    "## Plot"
   ]
  },
  {
   "cell_type": "code",
   "execution_count": null,
   "metadata": {
    "collapsed": false
   },
   "outputs": [],
   "source": [
    "df_mean.T \\\n",
    "    .plot(yerr=df_std.T, title='Execution time per image (ms)',\n",
    "          kind='bar', rot=0, ylim=[0,1200], figsize=[20, 12], grid=True, legend=True, colormap=cm.autumn, fontsize=16)"
   ]
  },
  {
   "cell_type": "code",
   "execution_count": null,
   "metadata": {
    "collapsed": false
   },
   "outputs": [],
   "source": [
    "df_mean \\\n",
    "    .plot(yerr=df_std, title='Execution time per image (ms)',\n",
    "          kind='bar', rot=0, ylim=[0,1200], figsize=[20, 12], grid=True, legend=True, colormap=cm.autumn, fontsize=16)"
   ]
  }
 ],
 "metadata": {
  "kernelspec": {
   "display_name": "Python 2",
   "language": "python",
   "name": "python2"
  },
  "language_info": {
   "codemirror_mode": {
    "name": "ipython",
    "version": 2
   },
   "file_extension": ".py",
   "mimetype": "text/x-python",
   "name": "python",
   "nbconvert_exporter": "python",
   "pygments_lexer": "ipython2",
   "version": "2.7.12"
  }
 },
 "nbformat": 4,
 "nbformat_minor": 0
}
