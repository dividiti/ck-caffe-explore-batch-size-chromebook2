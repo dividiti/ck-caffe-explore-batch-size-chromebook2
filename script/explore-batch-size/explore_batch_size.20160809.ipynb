{
 "cells": [
  {
   "cell_type": "markdown",
   "metadata": {},
   "source": [
    "# Exploring batch size effects on Chromebook 2"
   ]
  },
  {
   "cell_type": "markdown",
   "metadata": {},
   "source": [
    "We explore effects of varying the batch size on **performance** of inference:\n",
    "\n",
    "- of 4 different CNN **models** (net architecture + weights):\n",
    "  - [AlexNet](https://github.com/BVLC/caffe/tree/master/models/bvlc_alexnet);\n",
    "  - [SqueezeNet 1.0](https://github.com/DeepScale/SqueezeNet/tree/master/SqueezeNet_v1.0);\n",
    "  - [SqueezeNet 1.1](https://github.com/DeepScale/SqueezeNet/tree/master/SqueezeNet_v1.1);\n",
    "  - [GoogleNet](https://github.com/BVLC/caffe/tree/master/models/bvlc_googlenet);\n",
    "\n",
    "- with 4 different **libraries**:\n",
    "\n",
    "  - [CPU] [OpenBLAS](https://github.com/xianyi/OpenBLAS) 0.2.18;\n",
    "  - [GPU] [clBLAS](https://github.com/clMathLibraries/clBLAS) 2.4;\n",
    "  - [GPU] [CLBlast](https://github.com/CNugteren/CLBlast) dev (35623cd > 0.8.0);\n",
    "  - [GPU] [CLBlast](https://github.com/CNugteren/CLBlast) dev (35623cd > 0.8.0) with Mali-optimized [overlay](https://github.com/intelfx/CLBlast/tree/mali-overlay) (641bb07);\n",
    "  \n",
    "- on the [Samsung Chromebook 2](http://www.samsung.com/us/computing/chromebooks/under-12/samsung-chromebook-2-11-6-xe503c12-k01us/) **platform**:\n",
    "  - [CPU] quad-core ARM Cortex-A15 (@ 1900 MHz);\n",
    "  - [GPU] quad-core ARM Mali-T628 (@ 600 MHz);\n",
    "  - [GPU] OpenCL driver 6.0 (r6p0);\n",
    "  - [GPU] OpenCL standard 1.1;\n",
    "  - [RAM] 2 GB;\n",
    "  - Gentoo Linux [over](community.arm.com/groups/arm-mali-graphics/blog/2014/12/18/installing-opencl-on-chromebook-2-in-30-minutes) ChromeOS with `/etc/lsb-release`:\n",
    "```\n",
    "CHROMEOS_AUSERVER=https://tools.google.com/service/update2\n",
    "CHROMEOS_BOARD_APPID={24E2E4F7-F92C-6115-3E26-02C7EAA02946}\n",
    "CHROMEOS_CANARY_APPID={90F229CE-83E2-4FAF-8479-E368A34938B1}\n",
    "CHROMEOS_DEVSERVER=\n",
    "CHROMEOS_RELEASE_APPID={24E2E4F7-F92C-6115-3E26-02C7EAA02946}\n",
    "CHROMEOS_RELEASE_BOARD=peach_pit-signed-mp-v2keys\n",
    "CHROMEOS_RELEASE_BRANCH_NUMBER=68\n",
    "CHROMEOS_RELEASE_BUILD_NUMBER=8350\n",
    "CHROMEOS_RELEASE_BUILD_TYPE=Official Build\n",
    "CHROMEOS_RELEASE_CHROME_MILESTONE=52\n",
    "CHROMEOS_RELEASE_DESCRIPTION=8350.68.0 (Official Build) stable-channel peach_pit \n",
    "CHROMEOS_RELEASE_NAME=Chrome OS\n",
    "CHROMEOS_RELEASE_PATCH_NUMBER=0\n",
    "CHROMEOS_RELEASE_TRACK=stable-channel\n",
    "CHROMEOS_RELEASE_VERSION=8350.68.0\n",
    "DEVICETYPE=CHROMEBOOK\n",
    "GOOGLE_RELEASE=8350.68.0\n",
    "```"
   ]
  },
  {
   "cell_type": "markdown",
   "metadata": {},
   "source": [
    "## Includes"
   ]
  },
  {
   "cell_type": "markdown",
   "metadata": {},
   "source": [
    "### Collective Knowledge"
   ]
  },
  {
   "cell_type": "code",
   "execution_count": 1,
   "metadata": {
    "collapsed": false
   },
   "outputs": [
    {
     "name": "stdout",
     "output_type": "stream",
     "text": [
      "CK version: 1.7.4dev\n"
     ]
    }
   ],
   "source": [
    "import ck.kernel as ck\n",
    "print ('CK version: %s' % ck.__version__)"
   ]
  },
  {
   "cell_type": "markdown",
   "metadata": {},
   "source": [
    "### Scientific"
   ]
  },
  {
   "cell_type": "code",
   "execution_count": 2,
   "metadata": {
    "collapsed": false
   },
   "outputs": [],
   "source": [
    "import math\n",
    "import IPython as ip\n",
    "import numpy as np\n",
    "import scipy as sp\n",
    "import pandas as pd\n",
    "import matplotlib as mp\n",
    "import matplotlib.pyplot as plt"
   ]
  },
  {
   "cell_type": "code",
   "execution_count": 3,
   "metadata": {
    "collapsed": false
   },
   "outputs": [
    {
     "name": "stdout",
     "output_type": "stream",
     "text": [
      "IPython version: 4.1.1\n",
      "NumPy version: 1.10.4\n",
      "SciPy version: 0.17.0\n",
      "Pandas version: 0.18.0+57.g101d81d.dirty\n",
      "Matplotlib version: 1.5.1\n"
     ]
    }
   ],
   "source": [
    "print ('IPython version: %s' % ip.__version__)\n",
    "print ('NumPy version: %s' % np.__version__)\n",
    "print ('SciPy version: %s' % sp.__version__)\n",
    "print ('Pandas version: %s' % pd.__version__)\n",
    "print ('Matplotlib version: %s' % mp.__version__)"
   ]
  },
  {
   "cell_type": "code",
   "execution_count": 4,
   "metadata": {
    "collapsed": true
   },
   "outputs": [],
   "source": [
    "from IPython.display import display\n",
    "from matplotlib import cm\n",
    "%matplotlib inline"
   ]
  },
  {
   "cell_type": "markdown",
   "metadata": {},
   "source": [
    "## Access experimental results"
   ]
  },
  {
   "cell_type": "code",
   "execution_count": 5,
   "metadata": {
    "collapsed": true
   },
   "outputs": [],
   "source": [
    "def search_experimental_points_by_tags(tags):\n",
    "    r=ck.access({'action':'get', 'module_uoa':'experiment', 'tags':tags, 'load_json_files':['0001']})\n",
    "    if r['return']>0:\n",
    "        print (\"Error: %s\" % r['error'])\n",
    "        exit(1)\n",
    "    # FIXME: For now, assume a single entry per the given tags.\n",
    "    results = {}\n",
    "    for point in r['points']:\n",
    "            point_data_raw = point['0001']\n",
    "            point_data_dict = {}\n",
    "            time_fw_ms = [\n",
    "                characteristics['run']['time_fw_ms'] \n",
    "                for characteristics in point_data_raw['characteristics_list']\n",
    "                if characteristics['run']['run_success'] == 'yes'\n",
    "            ]\n",
    "            batch_size = point_data_raw['choices']['env']['CK_CAFFE_BATCH_SIZE']\n",
    "            results[batch_size] = time_fw_ms\n",
    "    return results"
   ]
  },
  {
   "cell_type": "markdown",
   "metadata": {},
   "source": [
    "## Analyze experimental results"
   ]
  },
  {
   "cell_type": "code",
   "execution_count": 6,
   "metadata": {
    "collapsed": false
   },
   "outputs": [],
   "source": [
    "def analyze(results):\n",
    "    df = pd.DataFrame(data=results)\n",
    "    df.columns.name = 'Batch size'\n",
    "    df.index.name='Repetition'\n",
    "\n",
    "    # Show raw results.\n",
    "    print ('Experimental results: raw')\n",
    "    display(df)\n",
    "\n",
    "    df_stats = df.describe()\n",
    "    df_stats.loc['mean per image'] = df_stats.ix['mean'] / df.columns\n",
    "    df_stats.loc['std per image']  =  df_stats.ix['std'] / df.columns # FIXME: div by sqrt(n)?\n",
    "    \n",
    "    # Show stats.\n",
    "    print ('Experimental results: stats')\n",
    "    display(df_stats)\n",
    "\n",
    "    # Show two plots side-by-side: mean time per batch and mean time per image.\n",
    "    fig, axs = plt.subplots(1,2)\n",
    "    df_stats.ix['mean'] \\\n",
    "        .plot(ax=axs[0],\n",
    "            yerr=df_stats.ix['std'],\n",
    "            title='Mean time per batch (ms)',\n",
    "            kind='bar', grid=True, rot=0, figsize=[10, 4], colormap=cm.autumn_r\n",
    "        )\n",
    "    df_stats.ix['mean per image'] \\\n",
    "        .plot(ax=axs[1],\n",
    "            yerr=df_stats.ix['std per image'],\n",
    "            title='Mean time per image (ms)',\n",
    "            kind='bar', grid=True, rot=0, figsize=[10, 4], colormap=cm.autumn\n",
    "        )\n",
    "    \n",
    "    # Show batch size giving minimum time per image, mean and std.\n",
    "    min_time_per_image_idx = df_stats.ix['mean per image'].idxmin()\n",
    "    if not math.isnan(min_time_per_image_idx):\n",
    "        print (\n",
    "            'Minimum time per image: batch size = %d, mean = %.2f, std = %.2f' % (\n",
    "                min_time_per_image_idx, \n",
    "                df_stats.ix['mean per image'][min_time_per_image_idx],\n",
    "                df_stats.ix['std per image'][min_time_per_image_idx]\n",
    "            )\n",
    "        )\n",
    "    else:\n",
    "        print ('Minimum time per image: N/A')"
   ]
  },
  {
   "cell_type": "markdown",
   "metadata": {},
   "source": [
    "### AlexNet"
   ]
  },
  {
   "cell_type": "markdown",
   "metadata": {},
   "source": [
    "#### AlexNet / clBLAS"
   ]
  },
  {
   "cell_type": "code",
   "execution_count": 7,
   "metadata": {
    "collapsed": false
   },
   "outputs": [
    {
     "name": "stdout",
     "output_type": "stream",
     "text": [
      "Experimental results: raw\n"
     ]
    },
    {
     "data": {
      "text/html": [
       "<div>\n",
       "<table border=\"1\" class=\"dataframe\">\n",
       "  <thead>\n",
       "    <tr style=\"text-align: right;\">\n",
       "      <th>Batch size</th>\n",
       "      <th>1</th>\n",
       "      <th>2</th>\n",
       "      <th>3</th>\n",
       "      <th>4</th>\n",
       "    </tr>\n",
       "    <tr>\n",
       "      <th>Repetition</th>\n",
       "      <th></th>\n",
       "      <th></th>\n",
       "      <th></th>\n",
       "      <th></th>\n",
       "    </tr>\n",
       "  </thead>\n",
       "  <tbody>\n",
       "    <tr>\n",
       "      <th>0</th>\n",
       "      <td>565.242</td>\n",
       "      <td>1099.58</td>\n",
       "      <td>1617.11</td>\n",
       "      <td>2378.96</td>\n",
       "    </tr>\n",
       "    <tr>\n",
       "      <th>1</th>\n",
       "      <td>561.106</td>\n",
       "      <td>1076.68</td>\n",
       "      <td>1621.44</td>\n",
       "      <td>2294.17</td>\n",
       "    </tr>\n",
       "    <tr>\n",
       "      <th>2</th>\n",
       "      <td>531.255</td>\n",
       "      <td>1111.17</td>\n",
       "      <td>1577.70</td>\n",
       "      <td>2390.76</td>\n",
       "    </tr>\n",
       "  </tbody>\n",
       "</table>\n",
       "</div>"
      ],
      "text/plain": [
       "Batch size        1        2        3        4\n",
       "Repetition                                    \n",
       "0           565.242  1099.58  1617.11  2378.96\n",
       "1           561.106  1076.68  1621.44  2294.17\n",
       "2           531.255  1111.17  1577.70  2390.76"
      ]
     },
     "metadata": {},
     "output_type": "display_data"
    },
    {
     "name": "stdout",
     "output_type": "stream",
     "text": [
      "Experimental results: stats\n"
     ]
    },
    {
     "data": {
      "text/html": [
       "<div>\n",
       "<table border=\"1\" class=\"dataframe\">\n",
       "  <thead>\n",
       "    <tr style=\"text-align: right;\">\n",
       "      <th>Batch size</th>\n",
       "      <th>1</th>\n",
       "      <th>2</th>\n",
       "      <th>3</th>\n",
       "      <th>4</th>\n",
       "    </tr>\n",
       "  </thead>\n",
       "  <tbody>\n",
       "    <tr>\n",
       "      <th>count</th>\n",
       "      <td>3.000000</td>\n",
       "      <td>3.000000</td>\n",
       "      <td>3.000000</td>\n",
       "      <td>3.000000</td>\n",
       "    </tr>\n",
       "    <tr>\n",
       "      <th>mean</th>\n",
       "      <td>552.534333</td>\n",
       "      <td>1095.810000</td>\n",
       "      <td>1605.416667</td>\n",
       "      <td>2354.630000</td>\n",
       "    </tr>\n",
       "    <tr>\n",
       "      <th>std</th>\n",
       "      <td>18.544113</td>\n",
       "      <td>17.551345</td>\n",
       "      <td>24.100777</td>\n",
       "      <td>52.691258</td>\n",
       "    </tr>\n",
       "    <tr>\n",
       "      <th>min</th>\n",
       "      <td>531.255000</td>\n",
       "      <td>1076.680000</td>\n",
       "      <td>1577.700000</td>\n",
       "      <td>2294.170000</td>\n",
       "    </tr>\n",
       "    <tr>\n",
       "      <th>25%</th>\n",
       "      <td>546.180500</td>\n",
       "      <td>1088.130000</td>\n",
       "      <td>1597.405000</td>\n",
       "      <td>2336.565000</td>\n",
       "    </tr>\n",
       "    <tr>\n",
       "      <th>50%</th>\n",
       "      <td>561.106000</td>\n",
       "      <td>1099.580000</td>\n",
       "      <td>1617.110000</td>\n",
       "      <td>2378.960000</td>\n",
       "    </tr>\n",
       "    <tr>\n",
       "      <th>75%</th>\n",
       "      <td>563.174000</td>\n",
       "      <td>1105.375000</td>\n",
       "      <td>1619.275000</td>\n",
       "      <td>2384.860000</td>\n",
       "    </tr>\n",
       "    <tr>\n",
       "      <th>max</th>\n",
       "      <td>565.242000</td>\n",
       "      <td>1111.170000</td>\n",
       "      <td>1621.440000</td>\n",
       "      <td>2390.760000</td>\n",
       "    </tr>\n",
       "    <tr>\n",
       "      <th>mean per image</th>\n",
       "      <td>552.534333</td>\n",
       "      <td>547.905000</td>\n",
       "      <td>535.138889</td>\n",
       "      <td>588.657500</td>\n",
       "    </tr>\n",
       "    <tr>\n",
       "      <th>std per image</th>\n",
       "      <td>18.544113</td>\n",
       "      <td>8.775672</td>\n",
       "      <td>8.033592</td>\n",
       "      <td>13.172815</td>\n",
       "    </tr>\n",
       "  </tbody>\n",
       "</table>\n",
       "</div>"
      ],
      "text/plain": [
       "Batch size               1            2            3            4\n",
       "count             3.000000     3.000000     3.000000     3.000000\n",
       "mean            552.534333  1095.810000  1605.416667  2354.630000\n",
       "std              18.544113    17.551345    24.100777    52.691258\n",
       "min             531.255000  1076.680000  1577.700000  2294.170000\n",
       "25%             546.180500  1088.130000  1597.405000  2336.565000\n",
       "50%             561.106000  1099.580000  1617.110000  2378.960000\n",
       "75%             563.174000  1105.375000  1619.275000  2384.860000\n",
       "max             565.242000  1111.170000  1621.440000  2390.760000\n",
       "mean per image  552.534333   547.905000   535.138889   588.657500\n",
       "std per image    18.544113     8.775672     8.033592    13.172815"
      ]
     },
     "metadata": {},
     "output_type": "display_data"
    },
    {
     "name": "stdout",
     "output_type": "stream",
     "text": [
      "Minimum time per image: batch size = 3, mean = 535.14, std = 8.03\n"
     ]
    },
    {
     "data": {
      "image/png": "[encoded data removed]",
      "text/plain": [
       "<matplotlib.figure.Figure at 0xacf70f50>"
      ]
     },
     "metadata": {},
     "output_type": "display_data"
    }
   ],
   "source": [
    "alexnet_clblas_tags = 'chromebook2,time,caffemodel,alexnet,clblas'\n",
    "alexnet_clblas_results = search_experimental_points_by_tags(alexnet_clblas_tags)\n",
    "analyze(alexnet_clblas_results)"
   ]
  },
  {
   "cell_type": "markdown",
   "metadata": {},
   "source": [
    "#### AlexNet / CLBlast dev"
   ]
  },
  {
   "cell_type": "code",
   "execution_count": 8,
   "metadata": {
    "collapsed": false
   },
   "outputs": [
    {
     "name": "stdout",
     "output_type": "stream",
     "text": [
      "Experimental results: raw\n"
     ]
    },
    {
     "data": {
      "text/html": [
       "<div>\n",
       "<table border=\"1\" class=\"dataframe\">\n",
       "  <thead>\n",
       "    <tr style=\"text-align: right;\">\n",
       "      <th>Batch size</th>\n",
       "      <th>1</th>\n",
       "      <th>2</th>\n",
       "      <th>3</th>\n",
       "      <th>4</th>\n",
       "    </tr>\n",
       "    <tr>\n",
       "      <th>Repetition</th>\n",
       "      <th></th>\n",
       "      <th></th>\n",
       "      <th></th>\n",
       "      <th></th>\n",
       "    </tr>\n",
       "  </thead>\n",
       "  <tbody>\n",
       "    <tr>\n",
       "      <th>0</th>\n",
       "      <td>568.821</td>\n",
       "      <td>2136.33</td>\n",
       "      <td>2393.56</td>\n",
       "      <td>2689.57</td>\n",
       "    </tr>\n",
       "    <tr>\n",
       "      <th>1</th>\n",
       "      <td>560.323</td>\n",
       "      <td>2131.77</td>\n",
       "      <td>2390.96</td>\n",
       "      <td>2687.91</td>\n",
       "    </tr>\n",
       "    <tr>\n",
       "      <th>2</th>\n",
       "      <td>566.146</td>\n",
       "      <td>2134.72</td>\n",
       "      <td>2396.83</td>\n",
       "      <td>2695.28</td>\n",
       "    </tr>\n",
       "  </tbody>\n",
       "</table>\n",
       "</div>"
      ],
      "text/plain": [
       "Batch size        1        2        3        4\n",
       "Repetition                                    \n",
       "0           568.821  2136.33  2393.56  2689.57\n",
       "1           560.323  2131.77  2390.96  2687.91\n",
       "2           566.146  2134.72  2396.83  2695.28"
      ]
     },
     "metadata": {},
     "output_type": "display_data"
    },
    {
     "name": "stdout",
     "output_type": "stream",
     "text": [
      "Experimental results: stats\n"
     ]
    },
    {
     "data": {
      "text/html": [
       "<div>\n",
       "<table border=\"1\" class=\"dataframe\">\n",
       "  <thead>\n",
       "    <tr style=\"text-align: right;\">\n",
       "      <th>Batch size</th>\n",
       "      <th>1</th>\n",
       "      <th>2</th>\n",
       "      <th>3</th>\n",
       "      <th>4</th>\n",
       "    </tr>\n",
       "  </thead>\n",
       "  <tbody>\n",
       "    <tr>\n",
       "      <th>count</th>\n",
       "      <td>3.000000</td>\n",
       "      <td>3.000000</td>\n",
       "      <td>3.000000</td>\n",
       "      <td>3.000000</td>\n",
       "    </tr>\n",
       "    <tr>\n",
       "      <th>mean</th>\n",
       "      <td>565.096667</td>\n",
       "      <td>2134.273333</td>\n",
       "      <td>2393.783333</td>\n",
       "      <td>2690.920000</td>\n",
       "    </tr>\n",
       "    <tr>\n",
       "      <th>std</th>\n",
       "      <td>4.345092</td>\n",
       "      <td>2.312582</td>\n",
       "      <td>2.941366</td>\n",
       "      <td>3.866019</td>\n",
       "    </tr>\n",
       "    <tr>\n",
       "      <th>min</th>\n",
       "      <td>560.323000</td>\n",
       "      <td>2131.770000</td>\n",
       "      <td>2390.960000</td>\n",
       "      <td>2687.910000</td>\n",
       "    </tr>\n",
       "    <tr>\n",
       "      <th>25%</th>\n",
       "      <td>563.234500</td>\n",
       "      <td>2133.245000</td>\n",
       "      <td>2392.260000</td>\n",
       "      <td>2688.740000</td>\n",
       "    </tr>\n",
       "    <tr>\n",
       "      <th>50%</th>\n",
       "      <td>566.146000</td>\n",
       "      <td>2134.720000</td>\n",
       "      <td>2393.560000</td>\n",
       "      <td>2689.570000</td>\n",
       "    </tr>\n",
       "    <tr>\n",
       "      <th>75%</th>\n",
       "      <td>567.483500</td>\n",
       "      <td>2135.525000</td>\n",
       "      <td>2395.195000</td>\n",
       "      <td>2692.425000</td>\n",
       "    </tr>\n",
       "    <tr>\n",
       "      <th>max</th>\n",
       "      <td>568.821000</td>\n",
       "      <td>2136.330000</td>\n",
       "      <td>2396.830000</td>\n",
       "      <td>2695.280000</td>\n",
       "    </tr>\n",
       "    <tr>\n",
       "      <th>mean per image</th>\n",
       "      <td>565.096667</td>\n",
       "      <td>1067.136667</td>\n",
       "      <td>797.927778</td>\n",
       "      <td>672.730000</td>\n",
       "    </tr>\n",
       "    <tr>\n",
       "      <th>std per image</th>\n",
       "      <td>4.345092</td>\n",
       "      <td>1.156291</td>\n",
       "      <td>0.980455</td>\n",
       "      <td>0.966505</td>\n",
       "    </tr>\n",
       "  </tbody>\n",
       "</table>\n",
       "</div>"
      ],
      "text/plain": [
       "Batch size               1            2            3            4\n",
       "count             3.000000     3.000000     3.000000     3.000000\n",
       "mean            565.096667  2134.273333  2393.783333  2690.920000\n",
       "std               4.345092     2.312582     2.941366     3.866019\n",
       "min             560.323000  2131.770000  2390.960000  2687.910000\n",
       "25%             563.234500  2133.245000  2392.260000  2688.740000\n",
       "50%             566.146000  2134.720000  2393.560000  2689.570000\n",
       "75%             567.483500  2135.525000  2395.195000  2692.425000\n",
       "max             568.821000  2136.330000  2396.830000  2695.280000\n",
       "mean per image  565.096667  1067.136667   797.927778   672.730000\n",
       "std per image     4.345092     1.156291     0.980455     0.966505"
      ]
     },
     "metadata": {},
     "output_type": "display_data"
    },
    {
     "name": "stdout",
     "output_type": "stream",
     "text": [
      "Minimum time per image: batch size = 1, mean = 565.10, std = 4.35\n"
     ]
    },
    {
     "data": {
      "image/png": "[encoded data removed]",
      "text/plain": [
       "<matplotlib.figure.Figure at 0xacf49c70>"
      ]
     },
     "metadata": {},
     "output_type": "display_data"
    }
   ],
   "source": [
    "alexnet_clblast_development_tags = 'chromebook2,time,caffemodel,alexnet,clblast,vdevelopment'\n",
    "alexnet_clblast_development_results = search_experimental_points_by_tags(alexnet_clblast_development_tags)\n",
    "analyze(alexnet_clblast_development_results)"
   ]
  },
  {
   "cell_type": "markdown",
   "metadata": {},
   "source": [
    "#### AlexNet / CLBlast with Mali-optimized overlay"
   ]
  },
  {
   "cell_type": "code",
   "execution_count": 9,
   "metadata": {
    "collapsed": false
   },
   "outputs": [
    {
     "name": "stdout",
     "output_type": "stream",
     "text": [
      "Experimental results: raw\n"
     ]
    },
    {
     "data": {
      "text/html": [
       "<div>\n",
       "<table border=\"1\" class=\"dataframe\">\n",
       "  <thead>\n",
       "    <tr style=\"text-align: right;\">\n",
       "      <th>Batch size</th>\n",
       "      <th>1</th>\n",
       "      <th>2</th>\n",
       "      <th>3</th>\n",
       "      <th>4</th>\n",
       "    </tr>\n",
       "    <tr>\n",
       "      <th>Repetition</th>\n",
       "      <th></th>\n",
       "      <th></th>\n",
       "      <th></th>\n",
       "      <th></th>\n",
       "    </tr>\n",
       "  </thead>\n",
       "  <tbody>\n",
       "    <tr>\n",
       "      <th>0</th>\n",
       "      <td>484.194</td>\n",
       "      <td>2797.65</td>\n",
       "      <td>2398.14</td>\n",
       "      <td>2615.90</td>\n",
       "    </tr>\n",
       "    <tr>\n",
       "      <th>1</th>\n",
       "      <td>467.265</td>\n",
       "      <td>2127.75</td>\n",
       "      <td>2290.31</td>\n",
       "      <td>2477.50</td>\n",
       "    </tr>\n",
       "    <tr>\n",
       "      <th>2</th>\n",
       "      <td>508.266</td>\n",
       "      <td>2098.55</td>\n",
       "      <td>2282.12</td>\n",
       "      <td>2489.39</td>\n",
       "    </tr>\n",
       "  </tbody>\n",
       "</table>\n",
       "</div>"
      ],
      "text/plain": [
       "Batch size        1        2        3        4\n",
       "Repetition                                    \n",
       "0           484.194  2797.65  2398.14  2615.90\n",
       "1           467.265  2127.75  2290.31  2477.50\n",
       "2           508.266  2098.55  2282.12  2489.39"
      ]
     },
     "metadata": {},
     "output_type": "display_data"
    },
    {
     "name": "stdout",
     "output_type": "stream",
     "text": [
      "Experimental results: stats\n"
     ]
    },
    {
     "data": {
      "text/html": [
       "<div>\n",
       "<table border=\"1\" class=\"dataframe\">\n",
       "  <thead>\n",
       "    <tr style=\"text-align: right;\">\n",
       "      <th>Batch size</th>\n",
       "      <th>1</th>\n",
       "      <th>2</th>\n",
       "      <th>3</th>\n",
       "      <th>4</th>\n",
       "    </tr>\n",
       "  </thead>\n",
       "  <tbody>\n",
       "    <tr>\n",
       "      <th>count</th>\n",
       "      <td>3.000000</td>\n",
       "      <td>3.000000</td>\n",
       "      <td>3.000000</td>\n",
       "      <td>3.000000</td>\n",
       "    </tr>\n",
       "    <tr>\n",
       "      <th>mean</th>\n",
       "      <td>486.575000</td>\n",
       "      <td>2341.316667</td>\n",
       "      <td>2323.523333</td>\n",
       "      <td>2527.596667</td>\n",
       "    </tr>\n",
       "    <tr>\n",
       "      <th>std</th>\n",
       "      <td>20.603941</td>\n",
       "      <td>395.465856</td>\n",
       "      <td>64.749550</td>\n",
       "      <td>76.703664</td>\n",
       "    </tr>\n",
       "    <tr>\n",
       "      <th>min</th>\n",
       "      <td>467.265000</td>\n",
       "      <td>2098.550000</td>\n",
       "      <td>2282.120000</td>\n",
       "      <td>2477.500000</td>\n",
       "    </tr>\n",
       "    <tr>\n",
       "      <th>25%</th>\n",
       "      <td>475.729500</td>\n",
       "      <td>2113.150000</td>\n",
       "      <td>2286.215000</td>\n",
       "      <td>2483.445000</td>\n",
       "    </tr>\n",
       "    <tr>\n",
       "      <th>50%</th>\n",
       "      <td>484.194000</td>\n",
       "      <td>2127.750000</td>\n",
       "      <td>2290.310000</td>\n",
       "      <td>2489.390000</td>\n",
       "    </tr>\n",
       "    <tr>\n",
       "      <th>75%</th>\n",
       "      <td>496.230000</td>\n",
       "      <td>2462.700000</td>\n",
       "      <td>2344.225000</td>\n",
       "      <td>2552.645000</td>\n",
       "    </tr>\n",
       "    <tr>\n",
       "      <th>max</th>\n",
       "      <td>508.266000</td>\n",
       "      <td>2797.650000</td>\n",
       "      <td>2398.140000</td>\n",
       "      <td>2615.900000</td>\n",
       "    </tr>\n",
       "    <tr>\n",
       "      <th>mean per image</th>\n",
       "      <td>486.575000</td>\n",
       "      <td>1170.658333</td>\n",
       "      <td>774.507778</td>\n",
       "      <td>631.899167</td>\n",
       "    </tr>\n",
       "    <tr>\n",
       "      <th>std per image</th>\n",
       "      <td>20.603941</td>\n",
       "      <td>197.732928</td>\n",
       "      <td>21.583183</td>\n",
       "      <td>19.175916</td>\n",
       "    </tr>\n",
       "  </tbody>\n",
       "</table>\n",
       "</div>"
      ],
      "text/plain": [
       "Batch size               1            2            3            4\n",
       "count             3.000000     3.000000     3.000000     3.000000\n",
       "mean            486.575000  2341.316667  2323.523333  2527.596667\n",
       "std              20.603941   395.465856    64.749550    76.703664\n",
       "min             467.265000  2098.550000  2282.120000  2477.500000\n",
       "25%             475.729500  2113.150000  2286.215000  2483.445000\n",
       "50%             484.194000  2127.750000  2290.310000  2489.390000\n",
       "75%             496.230000  2462.700000  2344.225000  2552.645000\n",
       "max             508.266000  2797.650000  2398.140000  2615.900000\n",
       "mean per image  486.575000  1170.658333   774.507778   631.899167\n",
       "std per image    20.603941   197.732928    21.583183    19.175916"
      ]
     },
     "metadata": {},
     "output_type": "display_data"
    },
    {
     "name": "stdout",
     "output_type": "stream",
     "text": [
      "Minimum time per image: batch size = 1, mean = 486.58, std = 20.60\n"
     ]
    },
    {
     "data": {
      "image/png": "[encoded data removed]",
      "text/plain": [
       "<matplotlib.figure.Figure at 0xacee3d10>"
      ]
     },
     "metadata": {},
     "output_type": "display_data"
    }
   ],
   "source": [
    "alexnet_clblast_mali_overlay_tags = 'chromebook2,time,caffemodel,alexnet,clblast,vmali-overlay'\n",
    "alexnet_clblast_mali_overlay_results = search_experimental_points_by_tags(alexnet_clblast_mali_overlay_tags)\n",
    "analyze(alexnet_clblast_mali_overlay_results)"
   ]
  },
  {
   "cell_type": "markdown",
   "metadata": {},
   "source": [
    "#### AlexNet / OpenBLAS"
   ]
  },
  {
   "cell_type": "code",
   "execution_count": 10,
   "metadata": {
    "collapsed": false
   },
   "outputs": [
    {
     "name": "stdout",
     "output_type": "stream",
     "text": [
      "Experimental results: raw\n"
     ]
    },
    {
     "data": {
      "text/html": [
       "<div>\n",
       "<table border=\"1\" class=\"dataframe\">\n",
       "  <thead>\n",
       "    <tr style=\"text-align: right;\">\n",
       "      <th>Batch size</th>\n",
       "      <th>1</th>\n",
       "      <th>2</th>\n",
       "      <th>3</th>\n",
       "      <th>4</th>\n",
       "    </tr>\n",
       "    <tr>\n",
       "      <th>Repetition</th>\n",
       "      <th></th>\n",
       "      <th></th>\n",
       "      <th></th>\n",
       "      <th></th>\n",
       "    </tr>\n",
       "  </thead>\n",
       "  <tbody>\n",
       "    <tr>\n",
       "      <th>0</th>\n",
       "      <td>542.903</td>\n",
       "      <td>802.774</td>\n",
       "      <td>1137.20</td>\n",
       "      <td>1207.36</td>\n",
       "    </tr>\n",
       "    <tr>\n",
       "      <th>1</th>\n",
       "      <td>689.488</td>\n",
       "      <td>976.314</td>\n",
       "      <td>1020.15</td>\n",
       "      <td>1348.32</td>\n",
       "    </tr>\n",
       "    <tr>\n",
       "      <th>2</th>\n",
       "      <td>595.458</td>\n",
       "      <td>1494.250</td>\n",
       "      <td>1055.80</td>\n",
       "      <td>1405.32</td>\n",
       "    </tr>\n",
       "  </tbody>\n",
       "</table>\n",
       "</div>"
      ],
      "text/plain": [
       "Batch size        1         2        3        4\n",
       "Repetition                                     \n",
       "0           542.903   802.774  1137.20  1207.36\n",
       "1           689.488   976.314  1020.15  1348.32\n",
       "2           595.458  1494.250  1055.80  1405.32"
      ]
     },
     "metadata": {},
     "output_type": "display_data"
    },
    {
     "name": "stdout",
     "output_type": "stream",
     "text": [
      "Experimental results: stats\n"
     ]
    },
    {
     "data": {
      "text/html": [
       "<div>\n",
       "<table border=\"1\" class=\"dataframe\">\n",
       "  <thead>\n",
       "    <tr style=\"text-align: right;\">\n",
       "      <th>Batch size</th>\n",
       "      <th>1</th>\n",
       "      <th>2</th>\n",
       "      <th>3</th>\n",
       "      <th>4</th>\n",
       "    </tr>\n",
       "  </thead>\n",
       "  <tbody>\n",
       "    <tr>\n",
       "      <th>count</th>\n",
       "      <td>3.000000</td>\n",
       "      <td>3.000000</td>\n",
       "      <td>3.000000</td>\n",
       "      <td>3.000000</td>\n",
       "    </tr>\n",
       "    <tr>\n",
       "      <th>mean</th>\n",
       "      <td>609.283000</td>\n",
       "      <td>1091.112667</td>\n",
       "      <td>1071.050000</td>\n",
       "      <td>1320.333333</td>\n",
       "    </tr>\n",
       "    <tr>\n",
       "      <th>std</th>\n",
       "      <td>74.263979</td>\n",
       "      <td>359.748266</td>\n",
       "      <td>59.996646</td>\n",
       "      <td>101.904271</td>\n",
       "    </tr>\n",
       "    <tr>\n",
       "      <th>min</th>\n",
       "      <td>542.903000</td>\n",
       "      <td>802.774000</td>\n",
       "      <td>1020.150000</td>\n",
       "      <td>1207.360000</td>\n",
       "    </tr>\n",
       "    <tr>\n",
       "      <th>25%</th>\n",
       "      <td>569.180500</td>\n",
       "      <td>889.544000</td>\n",
       "      <td>1037.975000</td>\n",
       "      <td>1277.840000</td>\n",
       "    </tr>\n",
       "    <tr>\n",
       "      <th>50%</th>\n",
       "      <td>595.458000</td>\n",
       "      <td>976.314000</td>\n",
       "      <td>1055.800000</td>\n",
       "      <td>1348.320000</td>\n",
       "    </tr>\n",
       "    <tr>\n",
       "      <th>75%</th>\n",
       "      <td>642.473000</td>\n",
       "      <td>1235.282000</td>\n",
       "      <td>1096.500000</td>\n",
       "      <td>1376.820000</td>\n",
       "    </tr>\n",
       "    <tr>\n",
       "      <th>max</th>\n",
       "      <td>689.488000</td>\n",
       "      <td>1494.250000</td>\n",
       "      <td>1137.200000</td>\n",
       "      <td>1405.320000</td>\n",
       "    </tr>\n",
       "    <tr>\n",
       "      <th>mean per image</th>\n",
       "      <td>609.283000</td>\n",
       "      <td>545.556333</td>\n",
       "      <td>357.016667</td>\n",
       "      <td>330.083333</td>\n",
       "    </tr>\n",
       "    <tr>\n",
       "      <th>std per image</th>\n",
       "      <td>74.263979</td>\n",
       "      <td>179.874133</td>\n",
       "      <td>19.998882</td>\n",
       "      <td>25.476068</td>\n",
       "    </tr>\n",
       "  </tbody>\n",
       "</table>\n",
       "</div>"
      ],
      "text/plain": [
       "Batch size               1            2            3            4\n",
       "count             3.000000     3.000000     3.000000     3.000000\n",
       "mean            609.283000  1091.112667  1071.050000  1320.333333\n",
       "std              74.263979   359.748266    59.996646   101.904271\n",
       "min             542.903000   802.774000  1020.150000  1207.360000\n",
       "25%             569.180500   889.544000  1037.975000  1277.840000\n",
       "50%             595.458000   976.314000  1055.800000  1348.320000\n",
       "75%             642.473000  1235.282000  1096.500000  1376.820000\n",
       "max             689.488000  1494.250000  1137.200000  1405.320000\n",
       "mean per image  609.283000   545.556333   357.016667   330.083333\n",
       "std per image    74.263979   179.874133    19.998882    25.476068"
      ]
     },
     "metadata": {},
     "output_type": "display_data"
    },
    {
     "name": "stdout",
     "output_type": "stream",
     "text": [
      "Minimum time per image: batch size = 4, mean = 330.08, std = 25.48\n"
     ]
    },
    {
     "data": {
      "image/png": "[encoded data removed]",
      "text/plain": [
       "<matplotlib.figure.Figure at 0xaccad6b0>"
      ]
     },
     "metadata": {},
     "output_type": "display_data"
    }
   ],
   "source": [
    "alexnet_openblas_tags = 'chromebook2,time,caffemodel,alexnet,openblas'\n",
    "alexnet_openblas_results = search_experimental_points_by_tags(alexnet_openblas_tags)\n",
    "analyze(alexnet_openblas_results)"
   ]
  },
  {
   "cell_type": "markdown",
   "metadata": {},
   "source": [
    "### SqueezeNet 1.0"
   ]
  },
  {
   "cell_type": "markdown",
   "metadata": {},
   "source": [
    "#### SqueezeNet 1.0 / clBLAS"
   ]
  },
  {
   "cell_type": "code",
   "execution_count": 11,
   "metadata": {
    "collapsed": false
   },
   "outputs": [
    {
     "name": "stdout",
     "output_type": "stream",
     "text": [
      "Experimental results: raw\n"
     ]
    },
    {
     "data": {
      "text/html": [
       "<div>\n",
       "<table border=\"1\" class=\"dataframe\">\n",
       "  <thead>\n",
       "    <tr style=\"text-align: right;\">\n",
       "      <th>Batch size</th>\n",
       "      <th>1</th>\n",
       "      <th>2</th>\n",
       "      <th>3</th>\n",
       "      <th>4</th>\n",
       "    </tr>\n",
       "    <tr>\n",
       "      <th>Repetition</th>\n",
       "      <th></th>\n",
       "      <th></th>\n",
       "      <th></th>\n",
       "      <th></th>\n",
       "    </tr>\n",
       "  </thead>\n",
       "  <tbody>\n",
       "    <tr>\n",
       "      <th>0</th>\n",
       "      <td>708.721</td>\n",
       "      <td>1429.66</td>\n",
       "      <td>2012.97</td>\n",
       "      <td>2660.97</td>\n",
       "    </tr>\n",
       "    <tr>\n",
       "      <th>1</th>\n",
       "      <td>714.289</td>\n",
       "      <td>1386.06</td>\n",
       "      <td>2049.74</td>\n",
       "      <td>2654.21</td>\n",
       "    </tr>\n",
       "    <tr>\n",
       "      <th>2</th>\n",
       "      <td>759.288</td>\n",
       "      <td>1320.15</td>\n",
       "      <td>1977.08</td>\n",
       "      <td>2669.93</td>\n",
       "    </tr>\n",
       "  </tbody>\n",
       "</table>\n",
       "</div>"
      ],
      "text/plain": [
       "Batch size        1        2        3        4\n",
       "Repetition                                    \n",
       "0           708.721  1429.66  2012.97  2660.97\n",
       "1           714.289  1386.06  2049.74  2654.21\n",
       "2           759.288  1320.15  1977.08  2669.93"
      ]
     },
     "metadata": {},
     "output_type": "display_data"
    },
    {
     "name": "stdout",
     "output_type": "stream",
     "text": [
      "Experimental results: stats\n"
     ]
    },
    {
     "data": {
      "text/html": [
       "<div>\n",
       "<table border=\"1\" class=\"dataframe\">\n",
       "  <thead>\n",
       "    <tr style=\"text-align: right;\">\n",
       "      <th>Batch size</th>\n",
       "      <th>1</th>\n",
       "      <th>2</th>\n",
       "      <th>3</th>\n",
       "      <th>4</th>\n",
       "    </tr>\n",
       "  </thead>\n",
       "  <tbody>\n",
       "    <tr>\n",
       "      <th>count</th>\n",
       "      <td>3.000000</td>\n",
       "      <td>3.000000</td>\n",
       "      <td>3.000000</td>\n",
       "      <td>3.000000</td>\n",
       "    </tr>\n",
       "    <tr>\n",
       "      <th>mean</th>\n",
       "      <td>727.432667</td>\n",
       "      <td>1378.623333</td>\n",
       "      <td>2013.263333</td>\n",
       "      <td>2661.703333</td>\n",
       "    </tr>\n",
       "    <tr>\n",
       "      <th>std</th>\n",
       "      <td>27.727646</td>\n",
       "      <td>55.132459</td>\n",
       "      <td>36.330888</td>\n",
       "      <td>7.885616</td>\n",
       "    </tr>\n",
       "    <tr>\n",
       "      <th>min</th>\n",
       "      <td>708.721000</td>\n",
       "      <td>1320.150000</td>\n",
       "      <td>1977.080000</td>\n",
       "      <td>2654.210000</td>\n",
       "    </tr>\n",
       "    <tr>\n",
       "      <th>25%</th>\n",
       "      <td>711.505000</td>\n",
       "      <td>1353.105000</td>\n",
       "      <td>1995.025000</td>\n",
       "      <td>2657.590000</td>\n",
       "    </tr>\n",
       "    <tr>\n",
       "      <th>50%</th>\n",
       "      <td>714.289000</td>\n",
       "      <td>1386.060000</td>\n",
       "      <td>2012.970000</td>\n",
       "      <td>2660.970000</td>\n",
       "    </tr>\n",
       "    <tr>\n",
       "      <th>75%</th>\n",
       "      <td>736.788500</td>\n",
       "      <td>1407.860000</td>\n",
       "      <td>2031.355000</td>\n",
       "      <td>2665.450000</td>\n",
       "    </tr>\n",
       "    <tr>\n",
       "      <th>max</th>\n",
       "      <td>759.288000</td>\n",
       "      <td>1429.660000</td>\n",
       "      <td>2049.740000</td>\n",
       "      <td>2669.930000</td>\n",
       "    </tr>\n",
       "    <tr>\n",
       "      <th>mean per image</th>\n",
       "      <td>727.432667</td>\n",
       "      <td>689.311667</td>\n",
       "      <td>671.087778</td>\n",
       "      <td>665.425833</td>\n",
       "    </tr>\n",
       "    <tr>\n",
       "      <th>std per image</th>\n",
       "      <td>27.727646</td>\n",
       "      <td>27.566229</td>\n",
       "      <td>12.110296</td>\n",
       "      <td>1.971404</td>\n",
       "    </tr>\n",
       "  </tbody>\n",
       "</table>\n",
       "</div>"
      ],
      "text/plain": [
       "Batch size               1            2            3            4\n",
       "count             3.000000     3.000000     3.000000     3.000000\n",
       "mean            727.432667  1378.623333  2013.263333  2661.703333\n",
       "std              27.727646    55.132459    36.330888     7.885616\n",
       "min             708.721000  1320.150000  1977.080000  2654.210000\n",
       "25%             711.505000  1353.105000  1995.025000  2657.590000\n",
       "50%             714.289000  1386.060000  2012.970000  2660.970000\n",
       "75%             736.788500  1407.860000  2031.355000  2665.450000\n",
       "max             759.288000  1429.660000  2049.740000  2669.930000\n",
       "mean per image  727.432667   689.311667   671.087778   665.425833\n",
       "std per image    27.727646    27.566229    12.110296     1.971404"
      ]
     },
     "metadata": {},
     "output_type": "display_data"
    },
    {
     "name": "stdout",
     "output_type": "stream",
     "text": [
      "Minimum time per image: batch size = 4, mean = 665.43, std = 1.97\n"
     ]
    },
    {
     "data": {
      "image/png": "[encoded data removed]",
      "text/plain": [
       "<matplotlib.figure.Figure at 0xaccffbf0>"
      ]
     },
     "metadata": {},
     "output_type": "display_data"
    }
   ],
   "source": [
    "squeezenet_1_0_clblas_tags = 'chromebook2,time,caffemodel,squeezenet-1.0,clblas'\n",
    "squeezenet_1_0_clblas_results = search_experimental_points_by_tags(squeezenet_1_0_clblas_tags)\n",
    "analyze(squeezenet_1_0_clblas_results)"
   ]
  },
  {
   "cell_type": "markdown",
   "metadata": {},
   "source": [
    "#### SqueezeNet 1.0 / CLBlast dev"
   ]
  },
  {
   "cell_type": "code",
   "execution_count": 12,
   "metadata": {
    "collapsed": false
   },
   "outputs": [
    {
     "name": "stdout",
     "output_type": "stream",
     "text": [
      "Experimental results: raw\n"
     ]
    },
    {
     "data": {
      "text/html": [
       "<div>\n",
       "<table border=\"1\" class=\"dataframe\">\n",
       "  <thead>\n",
       "    <tr style=\"text-align: right;\">\n",
       "      <th>Batch size</th>\n",
       "      <th>1</th>\n",
       "      <th>2</th>\n",
       "      <th>3</th>\n",
       "      <th>4</th>\n",
       "    </tr>\n",
       "    <tr>\n",
       "      <th>Repetition</th>\n",
       "      <th></th>\n",
       "      <th></th>\n",
       "      <th></th>\n",
       "      <th></th>\n",
       "    </tr>\n",
       "  </thead>\n",
       "  <tbody>\n",
       "    <tr>\n",
       "      <th>0</th>\n",
       "      <td>682.928</td>\n",
       "      <td>1307.86</td>\n",
       "      <td>1961.00</td>\n",
       "      <td>2485.74</td>\n",
       "    </tr>\n",
       "    <tr>\n",
       "      <th>1</th>\n",
       "      <td>683.398</td>\n",
       "      <td>1307.47</td>\n",
       "      <td>1902.75</td>\n",
       "      <td>2490.64</td>\n",
       "    </tr>\n",
       "    <tr>\n",
       "      <th>2</th>\n",
       "      <td>685.782</td>\n",
       "      <td>1293.84</td>\n",
       "      <td>1918.97</td>\n",
       "      <td>2439.18</td>\n",
       "    </tr>\n",
       "  </tbody>\n",
       "</table>\n",
       "</div>"
      ],
      "text/plain": [
       "Batch size        1        2        3        4\n",
       "Repetition                                    \n",
       "0           682.928  1307.86  1961.00  2485.74\n",
       "1           683.398  1307.47  1902.75  2490.64\n",
       "2           685.782  1293.84  1918.97  2439.18"
      ]
     },
     "metadata": {},
     "output_type": "display_data"
    },
    {
     "name": "stdout",
     "output_type": "stream",
     "text": [
      "Experimental results: stats\n"
     ]
    },
    {
     "data": {
      "text/html": [
       "<div>\n",
       "<table border=\"1\" class=\"dataframe\">\n",
       "  <thead>\n",
       "    <tr style=\"text-align: right;\">\n",
       "      <th>Batch size</th>\n",
       "      <th>1</th>\n",
       "      <th>2</th>\n",
       "      <th>3</th>\n",
       "      <th>4</th>\n",
       "    </tr>\n",
       "  </thead>\n",
       "  <tbody>\n",
       "    <tr>\n",
       "      <th>count</th>\n",
       "      <td>3.000000</td>\n",
       "      <td>3.000000</td>\n",
       "      <td>3.000000</td>\n",
       "      <td>3.000000</td>\n",
       "    </tr>\n",
       "    <tr>\n",
       "      <th>mean</th>\n",
       "      <td>684.036000</td>\n",
       "      <td>1303.056667</td>\n",
       "      <td>1927.573333</td>\n",
       "      <td>2471.853333</td>\n",
       "    </tr>\n",
       "    <tr>\n",
       "      <th>std</th>\n",
       "      <td>1.530233</td>\n",
       "      <td>7.984249</td>\n",
       "      <td>30.062911</td>\n",
       "      <td>28.401805</td>\n",
       "    </tr>\n",
       "    <tr>\n",
       "      <th>min</th>\n",
       "      <td>682.928000</td>\n",
       "      <td>1293.840000</td>\n",
       "      <td>1902.750000</td>\n",
       "      <td>2439.180000</td>\n",
       "    </tr>\n",
       "    <tr>\n",
       "      <th>25%</th>\n",
       "      <td>683.163000</td>\n",
       "      <td>1300.655000</td>\n",
       "      <td>1910.860000</td>\n",
       "      <td>2462.460000</td>\n",
       "    </tr>\n",
       "    <tr>\n",
       "      <th>50%</th>\n",
       "      <td>683.398000</td>\n",
       "      <td>1307.470000</td>\n",
       "      <td>1918.970000</td>\n",
       "      <td>2485.740000</td>\n",
       "    </tr>\n",
       "    <tr>\n",
       "      <th>75%</th>\n",
       "      <td>684.590000</td>\n",
       "      <td>1307.665000</td>\n",
       "      <td>1939.985000</td>\n",
       "      <td>2488.190000</td>\n",
       "    </tr>\n",
       "    <tr>\n",
       "      <th>max</th>\n",
       "      <td>685.782000</td>\n",
       "      <td>1307.860000</td>\n",
       "      <td>1961.000000</td>\n",
       "      <td>2490.640000</td>\n",
       "    </tr>\n",
       "    <tr>\n",
       "      <th>mean per image</th>\n",
       "      <td>684.036000</td>\n",
       "      <td>651.528333</td>\n",
       "      <td>642.524444</td>\n",
       "      <td>617.963333</td>\n",
       "    </tr>\n",
       "    <tr>\n",
       "      <th>std per image</th>\n",
       "      <td>1.530233</td>\n",
       "      <td>3.992125</td>\n",
       "      <td>10.020970</td>\n",
       "      <td>7.100451</td>\n",
       "    </tr>\n",
       "  </tbody>\n",
       "</table>\n",
       "</div>"
      ],
      "text/plain": [
       "Batch size               1            2            3            4\n",
       "count             3.000000     3.000000     3.000000     3.000000\n",
       "mean            684.036000  1303.056667  1927.573333  2471.853333\n",
       "std               1.530233     7.984249    30.062911    28.401805\n",
       "min             682.928000  1293.840000  1902.750000  2439.180000\n",
       "25%             683.163000  1300.655000  1910.860000  2462.460000\n",
       "50%             683.398000  1307.470000  1918.970000  2485.740000\n",
       "75%             684.590000  1307.665000  1939.985000  2488.190000\n",
       "max             685.782000  1307.860000  1961.000000  2490.640000\n",
       "mean per image  684.036000   651.528333   642.524444   617.963333\n",
       "std per image     1.530233     3.992125    10.020970     7.100451"
      ]
     },
     "metadata": {},
     "output_type": "display_data"
    },
    {
     "name": "stdout",
     "output_type": "stream",
     "text": [
      "Minimum time per image: batch size = 4, mean = 617.96, std = 7.10\n"
     ]
    },
    {
     "data": {
      "image/png": "[encoded data removed]",
      "text/plain": [
       "<matplotlib.figure.Figure at 0xacdf8d30>"
      ]
     },
     "metadata": {},
     "output_type": "display_data"
    }
   ],
   "source": [
    "squeezenet_1_0_clblast_development_tags = 'chromebook2,time,caffemodel,squeezenet-1.0,clblast,vdevelopment'\n",
    "squeezenet_1_0_clblast_development_results = search_experimental_points_by_tags(squeezenet_1_0_clblast_development_tags)\n",
    "analyze(squeezenet_1_0_clblast_development_results)"
   ]
  },
  {
   "cell_type": "markdown",
   "metadata": {},
   "source": [
    "#### SqueezeNet 1.0 / CLBlast dev with Mali-optimized overlay"
   ]
  },
  {
   "cell_type": "code",
   "execution_count": 13,
   "metadata": {
    "collapsed": false
   },
   "outputs": [
    {
     "name": "stdout",
     "output_type": "stream",
     "text": [
      "Experimental results: raw\n"
     ]
    },
    {
     "data": {
      "text/html": [
       "<div>\n",
       "<table border=\"1\" class=\"dataframe\">\n",
       "  <thead>\n",
       "    <tr style=\"text-align: right;\">\n",
       "      <th>Batch size</th>\n",
       "      <th>1</th>\n",
       "      <th>2</th>\n",
       "      <th>3</th>\n",
       "      <th>4</th>\n",
       "    </tr>\n",
       "    <tr>\n",
       "      <th>Repetition</th>\n",
       "      <th></th>\n",
       "      <th></th>\n",
       "      <th></th>\n",
       "      <th></th>\n",
       "    </tr>\n",
       "  </thead>\n",
       "  <tbody>\n",
       "    <tr>\n",
       "      <th>0</th>\n",
       "      <td>607.458</td>\n",
       "      <td>1000.66</td>\n",
       "      <td>1417.07</td>\n",
       "      <td>2114.95</td>\n",
       "    </tr>\n",
       "    <tr>\n",
       "      <th>1</th>\n",
       "      <td>537.179</td>\n",
       "      <td>1018.38</td>\n",
       "      <td>1434.45</td>\n",
       "      <td>1981.16</td>\n",
       "    </tr>\n",
       "    <tr>\n",
       "      <th>2</th>\n",
       "      <td>536.209</td>\n",
       "      <td>1026.75</td>\n",
       "      <td>1643.50</td>\n",
       "      <td>2057.11</td>\n",
       "    </tr>\n",
       "  </tbody>\n",
       "</table>\n",
       "</div>"
      ],
      "text/plain": [
       "Batch size        1        2        3        4\n",
       "Repetition                                    \n",
       "0           607.458  1000.66  1417.07  2114.95\n",
       "1           537.179  1018.38  1434.45  1981.16\n",
       "2           536.209  1026.75  1643.50  2057.11"
      ]
     },
     "metadata": {},
     "output_type": "display_data"
    },
    {
     "name": "stdout",
     "output_type": "stream",
     "text": [
      "Experimental results: stats\n"
     ]
    },
    {
     "data": {
      "text/html": [
       "<div>\n",
       "<table border=\"1\" class=\"dataframe\">\n",
       "  <thead>\n",
       "    <tr style=\"text-align: right;\">\n",
       "      <th>Batch size</th>\n",
       "      <th>1</th>\n",
       "      <th>2</th>\n",
       "      <th>3</th>\n",
       "      <th>4</th>\n",
       "    </tr>\n",
       "  </thead>\n",
       "  <tbody>\n",
       "    <tr>\n",
       "      <th>count</th>\n",
       "      <td>3.000000</td>\n",
       "      <td>3.000000</td>\n",
       "      <td>3.000000</td>\n",
       "      <td>3.000000</td>\n",
       "    </tr>\n",
       "    <tr>\n",
       "      <th>mean</th>\n",
       "      <td>560.282000</td>\n",
       "      <td>1015.263333</td>\n",
       "      <td>1498.340000</td>\n",
       "      <td>2051.073333</td>\n",
       "    </tr>\n",
       "    <tr>\n",
       "      <th>std</th>\n",
       "      <td>40.858493</td>\n",
       "      <td>13.321307</td>\n",
       "      <td>126.012243</td>\n",
       "      <td>67.098972</td>\n",
       "    </tr>\n",
       "    <tr>\n",
       "      <th>min</th>\n",
       "      <td>536.209000</td>\n",
       "      <td>1000.660000</td>\n",
       "      <td>1417.070000</td>\n",
       "      <td>1981.160000</td>\n",
       "    </tr>\n",
       "    <tr>\n",
       "      <th>25%</th>\n",
       "      <td>536.694000</td>\n",
       "      <td>1009.520000</td>\n",
       "      <td>1425.760000</td>\n",
       "      <td>2019.135000</td>\n",
       "    </tr>\n",
       "    <tr>\n",
       "      <th>50%</th>\n",
       "      <td>537.179000</td>\n",
       "      <td>1018.380000</td>\n",
       "      <td>1434.450000</td>\n",
       "      <td>2057.110000</td>\n",
       "    </tr>\n",
       "    <tr>\n",
       "      <th>75%</th>\n",
       "      <td>572.318500</td>\n",
       "      <td>1022.565000</td>\n",
       "      <td>1538.975000</td>\n",
       "      <td>2086.030000</td>\n",
       "    </tr>\n",
       "    <tr>\n",
       "      <th>max</th>\n",
       "      <td>607.458000</td>\n",
       "      <td>1026.750000</td>\n",
       "      <td>1643.500000</td>\n",
       "      <td>2114.950000</td>\n",
       "    </tr>\n",
       "    <tr>\n",
       "      <th>mean per image</th>\n",
       "      <td>560.282000</td>\n",
       "      <td>507.631667</td>\n",
       "      <td>499.446667</td>\n",
       "      <td>512.768333</td>\n",
       "    </tr>\n",
       "    <tr>\n",
       "      <th>std per image</th>\n",
       "      <td>40.858493</td>\n",
       "      <td>6.660654</td>\n",
       "      <td>42.004081</td>\n",
       "      <td>16.774743</td>\n",
       "    </tr>\n",
       "  </tbody>\n",
       "</table>\n",
       "</div>"
      ],
      "text/plain": [
       "Batch size               1            2            3            4\n",
       "count             3.000000     3.000000     3.000000     3.000000\n",
       "mean            560.282000  1015.263333  1498.340000  2051.073333\n",
       "std              40.858493    13.321307   126.012243    67.098972\n",
       "min             536.209000  1000.660000  1417.070000  1981.160000\n",
       "25%             536.694000  1009.520000  1425.760000  2019.135000\n",
       "50%             537.179000  1018.380000  1434.450000  2057.110000\n",
       "75%             572.318500  1022.565000  1538.975000  2086.030000\n",
       "max             607.458000  1026.750000  1643.500000  2114.950000\n",
       "mean per image  560.282000   507.631667   499.446667   512.768333\n",
       "std per image    40.858493     6.660654    42.004081    16.774743"
      ]
     },
     "metadata": {},
     "output_type": "display_data"
    },
    {
     "name": "stdout",
     "output_type": "stream",
     "text": [
      "Minimum time per image: batch size = 3, mean = 499.45, std = 42.00\n"
     ]
    },
    {
     "data": {
      "image/png": "[encoded data removed]",
      "text/plain": [
       "<matplotlib.figure.Figure at 0xacc62f10>"
      ]
     },
     "metadata": {},
     "output_type": "display_data"
    }
   ],
   "source": [
    "squeezenet_1_0_clblast_mali_overlay_tags = 'chromebook2,time,caffemodel,squeezenet-1.0,clblast,vmali-overlay'\n",
    "squeezenet_1_0_clblast_mali_overlay_results = search_experimental_points_by_tags(squeezenet_1_0_clblast_mali_overlay_tags)\n",
    "analyze(squeezenet_1_0_clblast_mali_overlay_results)"
   ]
  },
  {
   "cell_type": "markdown",
   "metadata": {},
   "source": [
    "#### SqueezeNet 1.0 / OpenBLAS"
   ]
  },
  {
   "cell_type": "code",
   "execution_count": 14,
   "metadata": {
    "collapsed": false
   },
   "outputs": [
    {
     "name": "stdout",
     "output_type": "stream",
     "text": [
      "Experimental results: raw\n"
     ]
    },
    {
     "data": {
      "text/html": [
       "<div>\n",
       "<table border=\"1\" class=\"dataframe\">\n",
       "  <thead>\n",
       "    <tr style=\"text-align: right;\">\n",
       "      <th>Batch size</th>\n",
       "      <th>1</th>\n",
       "      <th>2</th>\n",
       "      <th>3</th>\n",
       "      <th>4</th>\n",
       "    </tr>\n",
       "    <tr>\n",
       "      <th>Repetition</th>\n",
       "      <th></th>\n",
       "      <th></th>\n",
       "      <th></th>\n",
       "      <th></th>\n",
       "    </tr>\n",
       "  </thead>\n",
       "  <tbody>\n",
       "    <tr>\n",
       "      <th>0</th>\n",
       "      <td>261.860</td>\n",
       "      <td>587.635</td>\n",
       "      <td>922.405</td>\n",
       "      <td>1065.95</td>\n",
       "    </tr>\n",
       "    <tr>\n",
       "      <th>1</th>\n",
       "      <td>255.623</td>\n",
       "      <td>607.143</td>\n",
       "      <td>930.073</td>\n",
       "      <td>1218.85</td>\n",
       "    </tr>\n",
       "    <tr>\n",
       "      <th>2</th>\n",
       "      <td>387.804</td>\n",
       "      <td>648.517</td>\n",
       "      <td>786.573</td>\n",
       "      <td>1016.12</td>\n",
       "    </tr>\n",
       "  </tbody>\n",
       "</table>\n",
       "</div>"
      ],
      "text/plain": [
       "Batch size        1        2        3        4\n",
       "Repetition                                    \n",
       "0           261.860  587.635  922.405  1065.95\n",
       "1           255.623  607.143  930.073  1218.85\n",
       "2           387.804  648.517  786.573  1016.12"
      ]
     },
     "metadata": {},
     "output_type": "display_data"
    },
    {
     "name": "stdout",
     "output_type": "stream",
     "text": [
      "Experimental results: stats\n"
     ]
    },
    {
     "data": {
      "text/html": [
       "<div>\n",
       "<table border=\"1\" class=\"dataframe\">\n",
       "  <thead>\n",
       "    <tr style=\"text-align: right;\">\n",
       "      <th>Batch size</th>\n",
       "      <th>1</th>\n",
       "      <th>2</th>\n",
       "      <th>3</th>\n",
       "      <th>4</th>\n",
       "    </tr>\n",
       "  </thead>\n",
       "  <tbody>\n",
       "    <tr>\n",
       "      <th>count</th>\n",
       "      <td>3.000000</td>\n",
       "      <td>3.000000</td>\n",
       "      <td>3.000000</td>\n",
       "      <td>3.000000</td>\n",
       "    </tr>\n",
       "    <tr>\n",
       "      <th>mean</th>\n",
       "      <td>301.762333</td>\n",
       "      <td>614.431667</td>\n",
       "      <td>879.683667</td>\n",
       "      <td>1100.306667</td>\n",
       "    </tr>\n",
       "    <tr>\n",
       "      <th>std</th>\n",
       "      <td>74.579497</td>\n",
       "      <td>31.088551</td>\n",
       "      <td>80.727299</td>\n",
       "      <td>105.641605</td>\n",
       "    </tr>\n",
       "    <tr>\n",
       "      <th>min</th>\n",
       "      <td>255.623000</td>\n",
       "      <td>587.635000</td>\n",
       "      <td>786.573000</td>\n",
       "      <td>1016.120000</td>\n",
       "    </tr>\n",
       "    <tr>\n",
       "      <th>25%</th>\n",
       "      <td>258.741500</td>\n",
       "      <td>597.389000</td>\n",
       "      <td>854.489000</td>\n",
       "      <td>1041.035000</td>\n",
       "    </tr>\n",
       "    <tr>\n",
       "      <th>50%</th>\n",
       "      <td>261.860000</td>\n",
       "      <td>607.143000</td>\n",
       "      <td>922.405000</td>\n",
       "      <td>1065.950000</td>\n",
       "    </tr>\n",
       "    <tr>\n",
       "      <th>75%</th>\n",
       "      <td>324.832000</td>\n",
       "      <td>627.830000</td>\n",
       "      <td>926.239000</td>\n",
       "      <td>1142.400000</td>\n",
       "    </tr>\n",
       "    <tr>\n",
       "      <th>max</th>\n",
       "      <td>387.804000</td>\n",
       "      <td>648.517000</td>\n",
       "      <td>930.073000</td>\n",
       "      <td>1218.850000</td>\n",
       "    </tr>\n",
       "    <tr>\n",
       "      <th>mean per image</th>\n",
       "      <td>301.762333</td>\n",
       "      <td>307.215833</td>\n",
       "      <td>293.227889</td>\n",
       "      <td>275.076667</td>\n",
       "    </tr>\n",
       "    <tr>\n",
       "      <th>std per image</th>\n",
       "      <td>74.579497</td>\n",
       "      <td>15.544275</td>\n",
       "      <td>26.909100</td>\n",
       "      <td>26.410401</td>\n",
       "    </tr>\n",
       "  </tbody>\n",
       "</table>\n",
       "</div>"
      ],
      "text/plain": [
       "Batch size               1           2           3            4\n",
       "count             3.000000    3.000000    3.000000     3.000000\n",
       "mean            301.762333  614.431667  879.683667  1100.306667\n",
       "std              74.579497   31.088551   80.727299   105.641605\n",
       "min             255.623000  587.635000  786.573000  1016.120000\n",
       "25%             258.741500  597.389000  854.489000  1041.035000\n",
       "50%             261.860000  607.143000  922.405000  1065.950000\n",
       "75%             324.832000  627.830000  926.239000  1142.400000\n",
       "max             387.804000  648.517000  930.073000  1218.850000\n",
       "mean per image  301.762333  307.215833  293.227889   275.076667\n",
       "std per image    74.579497   15.544275   26.909100    26.410401"
      ]
     },
     "metadata": {},
     "output_type": "display_data"
    },
    {
     "name": "stdout",
     "output_type": "stream",
     "text": [
      "Minimum time per image: batch size = 4, mean = 275.08, std = 26.41\n"
     ]
    },
    {
     "data": {
      "image/png": "[encoded data removed]",
      "text/plain": [
       "<matplotlib.figure.Figure at 0xad147170>"
      ]
     },
     "metadata": {},
     "output_type": "display_data"
    }
   ],
   "source": [
    "squeezenet_1_0_openblas_tags = 'chromebook2,time,caffemodel,squeezenet-1.0,openblas'\n",
    "squeezenet_1_0_openblas_results = search_experimental_points_by_tags(squeezenet_1_0_openblas_tags)\n",
    "analyze(squeezenet_1_0_openblas_results)"
   ]
  },
  {
   "cell_type": "markdown",
   "metadata": {},
   "source": [
    "### SqueezeNet 1.1"
   ]
  },
  {
   "cell_type": "markdown",
   "metadata": {},
   "source": [
    "#### SqueezeNet 1.1 / clBLAS"
   ]
  },
  {
   "cell_type": "code",
   "execution_count": 15,
   "metadata": {
    "collapsed": false
   },
   "outputs": [
    {
     "name": "stdout",
     "output_type": "stream",
     "text": [
      "Experimental results: raw\n"
     ]
    },
    {
     "data": {
      "text/html": [
       "<div>\n",
       "<table border=\"1\" class=\"dataframe\">\n",
       "  <thead>\n",
       "    <tr style=\"text-align: right;\">\n",
       "      <th>Batch size</th>\n",
       "      <th>1</th>\n",
       "      <th>2</th>\n",
       "      <th>3</th>\n",
       "      <th>4</th>\n",
       "    </tr>\n",
       "    <tr>\n",
       "      <th>Repetition</th>\n",
       "      <th></th>\n",
       "      <th></th>\n",
       "      <th></th>\n",
       "      <th></th>\n",
       "    </tr>\n",
       "  </thead>\n",
       "  <tbody>\n",
       "    <tr>\n",
       "      <th>0</th>\n",
       "      <td>358.422</td>\n",
       "      <td>529.918</td>\n",
       "      <td>751.533</td>\n",
       "      <td>965.377</td>\n",
       "    </tr>\n",
       "    <tr>\n",
       "      <th>1</th>\n",
       "      <td>308.110</td>\n",
       "      <td>532.156</td>\n",
       "      <td>752.198</td>\n",
       "      <td>963.677</td>\n",
       "    </tr>\n",
       "    <tr>\n",
       "      <th>2</th>\n",
       "      <td>310.558</td>\n",
       "      <td>535.097</td>\n",
       "      <td>753.590</td>\n",
       "      <td>970.990</td>\n",
       "    </tr>\n",
       "  </tbody>\n",
       "</table>\n",
       "</div>"
      ],
      "text/plain": [
       "Batch size        1        2        3        4\n",
       "Repetition                                    \n",
       "0           358.422  529.918  751.533  965.377\n",
       "1           308.110  532.156  752.198  963.677\n",
       "2           310.558  535.097  753.590  970.990"
      ]
     },
     "metadata": {},
     "output_type": "display_data"
    },
    {
     "name": "stdout",
     "output_type": "stream",
     "text": [
      "Experimental results: stats\n"
     ]
    },
    {
     "data": {
      "text/html": [
       "<div>\n",
       "<table border=\"1\" class=\"dataframe\">\n",
       "  <thead>\n",
       "    <tr style=\"text-align: right;\">\n",
       "      <th>Batch size</th>\n",
       "      <th>1</th>\n",
       "      <th>2</th>\n",
       "      <th>3</th>\n",
       "      <th>4</th>\n",
       "    </tr>\n",
       "  </thead>\n",
       "  <tbody>\n",
       "    <tr>\n",
       "      <th>count</th>\n",
       "      <td>3.000000</td>\n",
       "      <td>3.000000</td>\n",
       "      <td>3.000000</td>\n",
       "      <td>3.000000</td>\n",
       "    </tr>\n",
       "    <tr>\n",
       "      <th>mean</th>\n",
       "      <td>325.696667</td>\n",
       "      <td>532.390333</td>\n",
       "      <td>752.440333</td>\n",
       "      <td>966.681333</td>\n",
       "    </tr>\n",
       "    <tr>\n",
       "      <th>std</th>\n",
       "      <td>28.367389</td>\n",
       "      <td>2.597440</td>\n",
       "      <td>1.049693</td>\n",
       "      <td>3.827004</td>\n",
       "    </tr>\n",
       "    <tr>\n",
       "      <th>min</th>\n",
       "      <td>308.110000</td>\n",
       "      <td>529.918000</td>\n",
       "      <td>751.533000</td>\n",
       "      <td>963.677000</td>\n",
       "    </tr>\n",
       "    <tr>\n",
       "      <th>25%</th>\n",
       "      <td>309.334000</td>\n",
       "      <td>531.037000</td>\n",
       "      <td>751.865500</td>\n",
       "      <td>964.527000</td>\n",
       "    </tr>\n",
       "    <tr>\n",
       "      <th>50%</th>\n",
       "      <td>310.558000</td>\n",
       "      <td>532.156000</td>\n",
       "      <td>752.198000</td>\n",
       "      <td>965.377000</td>\n",
       "    </tr>\n",
       "    <tr>\n",
       "      <th>75%</th>\n",
       "      <td>334.490000</td>\n",
       "      <td>533.626500</td>\n",
       "      <td>752.894000</td>\n",
       "      <td>968.183500</td>\n",
       "    </tr>\n",
       "    <tr>\n",
       "      <th>max</th>\n",
       "      <td>358.422000</td>\n",
       "      <td>535.097000</td>\n",
       "      <td>753.590000</td>\n",
       "      <td>970.990000</td>\n",
       "    </tr>\n",
       "    <tr>\n",
       "      <th>mean per image</th>\n",
       "      <td>325.696667</td>\n",
       "      <td>266.195167</td>\n",
       "      <td>250.813444</td>\n",
       "      <td>241.670333</td>\n",
       "    </tr>\n",
       "    <tr>\n",
       "      <th>std per image</th>\n",
       "      <td>28.367389</td>\n",
       "      <td>1.298720</td>\n",
       "      <td>0.349898</td>\n",
       "      <td>0.956751</td>\n",
       "    </tr>\n",
       "  </tbody>\n",
       "</table>\n",
       "</div>"
      ],
      "text/plain": [
       "Batch size               1           2           3           4\n",
       "count             3.000000    3.000000    3.000000    3.000000\n",
       "mean            325.696667  532.390333  752.440333  966.681333\n",
       "std              28.367389    2.597440    1.049693    3.827004\n",
       "min             308.110000  529.918000  751.533000  963.677000\n",
       "25%             309.334000  531.037000  751.865500  964.527000\n",
       "50%             310.558000  532.156000  752.198000  965.377000\n",
       "75%             334.490000  533.626500  752.894000  968.183500\n",
       "max             358.422000  535.097000  753.590000  970.990000\n",
       "mean per image  325.696667  266.195167  250.813444  241.670333\n",
       "std per image    28.367389    1.298720    0.349898    0.956751"
      ]
     },
     "metadata": {},
     "output_type": "display_data"
    },
    {
     "name": "stdout",
     "output_type": "stream",
     "text": [
      "Minimum time per image: batch size = 4, mean = 241.67, std = 0.96\n"
     ]
    },
    {
     "data": {
      "image/png": "[encoded data removed]",
      "text/plain": [
       "<matplotlib.figure.Figure at 0xacd0d870>"
      ]
     },
     "metadata": {},
     "output_type": "display_data"
    }
   ],
   "source": [
    "squeezenet_1_1_clblas_tags = 'chromebook2,time,caffemodel,squeezenet-1.1,clblas'\n",
    "squeezenet_1_1_clblas_results = search_experimental_points_by_tags(squeezenet_1_1_clblas_tags)\n",
    "analyze(squeezenet_1_1_clblas_results)"
   ]
  },
  {
   "cell_type": "markdown",
   "metadata": {},
   "source": [
    "#### SqueezeNet 1.1 / CLBlast dev"
   ]
  },
  {
   "cell_type": "code",
   "execution_count": 16,
   "metadata": {
    "collapsed": false
   },
   "outputs": [
    {
     "name": "stdout",
     "output_type": "stream",
     "text": [
      "Experimental results: raw\n"
     ]
    },
    {
     "data": {
      "text/html": [
       "<div>\n",
       "<table border=\"1\" class=\"dataframe\">\n",
       "  <thead>\n",
       "    <tr style=\"text-align: right;\">\n",
       "      <th>Batch size</th>\n",
       "      <th>1</th>\n",
       "      <th>2</th>\n",
       "      <th>3</th>\n",
       "      <th>4</th>\n",
       "    </tr>\n",
       "    <tr>\n",
       "      <th>Repetition</th>\n",
       "      <th></th>\n",
       "      <th></th>\n",
       "      <th></th>\n",
       "      <th></th>\n",
       "    </tr>\n",
       "  </thead>\n",
       "  <tbody>\n",
       "    <tr>\n",
       "      <th>0</th>\n",
       "      <td>517.461</td>\n",
       "      <td>819.343</td>\n",
       "      <td>1197.68</td>\n",
       "      <td>1602.55</td>\n",
       "    </tr>\n",
       "    <tr>\n",
       "      <th>1</th>\n",
       "      <td>543.982</td>\n",
       "      <td>828.103</td>\n",
       "      <td>1223.11</td>\n",
       "      <td>1553.30</td>\n",
       "    </tr>\n",
       "    <tr>\n",
       "      <th>2</th>\n",
       "      <td>458.714</td>\n",
       "      <td>978.645</td>\n",
       "      <td>1212.22</td>\n",
       "      <td>1592.05</td>\n",
       "    </tr>\n",
       "  </tbody>\n",
       "</table>\n",
       "</div>"
      ],
      "text/plain": [
       "Batch size        1        2        3        4\n",
       "Repetition                                    \n",
       "0           517.461  819.343  1197.68  1602.55\n",
       "1           543.982  828.103  1223.11  1553.30\n",
       "2           458.714  978.645  1212.22  1592.05"
      ]
     },
     "metadata": {},
     "output_type": "display_data"
    },
    {
     "name": "stdout",
     "output_type": "stream",
     "text": [
      "Experimental results: stats\n"
     ]
    },
    {
     "data": {
      "text/html": [
       "<div>\n",
       "<table border=\"1\" class=\"dataframe\">\n",
       "  <thead>\n",
       "    <tr style=\"text-align: right;\">\n",
       "      <th>Batch size</th>\n",
       "      <th>1</th>\n",
       "      <th>2</th>\n",
       "      <th>3</th>\n",
       "      <th>4</th>\n",
       "    </tr>\n",
       "  </thead>\n",
       "  <tbody>\n",
       "    <tr>\n",
       "      <th>count</th>\n",
       "      <td>3.00000</td>\n",
       "      <td>3.000000</td>\n",
       "      <td>3.000000</td>\n",
       "      <td>3.000000</td>\n",
       "    </tr>\n",
       "    <tr>\n",
       "      <th>mean</th>\n",
       "      <td>506.71900</td>\n",
       "      <td>875.363667</td>\n",
       "      <td>1211.003333</td>\n",
       "      <td>1582.633333</td>\n",
       "    </tr>\n",
       "    <tr>\n",
       "      <th>std</th>\n",
       "      <td>43.63715</td>\n",
       "      <td>89.551436</td>\n",
       "      <td>12.758583</td>\n",
       "      <td>25.940236</td>\n",
       "    </tr>\n",
       "    <tr>\n",
       "      <th>min</th>\n",
       "      <td>458.71400</td>\n",
       "      <td>819.343000</td>\n",
       "      <td>1197.680000</td>\n",
       "      <td>1553.300000</td>\n",
       "    </tr>\n",
       "    <tr>\n",
       "      <th>25%</th>\n",
       "      <td>488.08750</td>\n",
       "      <td>823.723000</td>\n",
       "      <td>1204.950000</td>\n",
       "      <td>1572.675000</td>\n",
       "    </tr>\n",
       "    <tr>\n",
       "      <th>50%</th>\n",
       "      <td>517.46100</td>\n",
       "      <td>828.103000</td>\n",
       "      <td>1212.220000</td>\n",
       "      <td>1592.050000</td>\n",
       "    </tr>\n",
       "    <tr>\n",
       "      <th>75%</th>\n",
       "      <td>530.72150</td>\n",
       "      <td>903.374000</td>\n",
       "      <td>1217.665000</td>\n",
       "      <td>1597.300000</td>\n",
       "    </tr>\n",
       "    <tr>\n",
       "      <th>max</th>\n",
       "      <td>543.98200</td>\n",
       "      <td>978.645000</td>\n",
       "      <td>1223.110000</td>\n",
       "      <td>1602.550000</td>\n",
       "    </tr>\n",
       "    <tr>\n",
       "      <th>mean per image</th>\n",
       "      <td>506.71900</td>\n",
       "      <td>437.681833</td>\n",
       "      <td>403.667778</td>\n",
       "      <td>395.658333</td>\n",
       "    </tr>\n",
       "    <tr>\n",
       "      <th>std per image</th>\n",
       "      <td>43.63715</td>\n",
       "      <td>44.775718</td>\n",
       "      <td>4.252861</td>\n",
       "      <td>6.485059</td>\n",
       "    </tr>\n",
       "  </tbody>\n",
       "</table>\n",
       "</div>"
      ],
      "text/plain": [
       "Batch size              1           2            3            4\n",
       "count             3.00000    3.000000     3.000000     3.000000\n",
       "mean            506.71900  875.363667  1211.003333  1582.633333\n",
       "std              43.63715   89.551436    12.758583    25.940236\n",
       "min             458.71400  819.343000  1197.680000  1553.300000\n",
       "25%             488.08750  823.723000  1204.950000  1572.675000\n",
       "50%             517.46100  828.103000  1212.220000  1592.050000\n",
       "75%             530.72150  903.374000  1217.665000  1597.300000\n",
       "max             543.98200  978.645000  1223.110000  1602.550000\n",
       "mean per image  506.71900  437.681833   403.667778   395.658333\n",
       "std per image    43.63715   44.775718     4.252861     6.485059"
      ]
     },
     "metadata": {},
     "output_type": "display_data"
    },
    {
     "name": "stdout",
     "output_type": "stream",
     "text": [
      "Minimum time per image: batch size = 4, mean = 395.66, std = 6.49\n"
     ]
    },
    {
     "data": {
      "image/png": "[encoded data removed]",
      "text/plain": [
       "<matplotlib.figure.Figure at 0xace39810>"
      ]
     },
     "metadata": {},
     "output_type": "display_data"
    }
   ],
   "source": [
    "squeezenet_1_1_clblast_development_tags = 'chromebook2,time,caffemodel,squeezenet-1.1,clblast,vdevelopment'\n",
    "squeezenet_1_1_clblast_development_results = search_experimental_points_by_tags(squeezenet_1_1_clblast_development_tags)\n",
    "analyze(squeezenet_1_1_clblast_development_results)"
   ]
  },
  {
   "cell_type": "markdown",
   "metadata": {},
   "source": [
    "#### SqueezeNet 1.1 / CLBlast dev with Mali-optimized overlay"
   ]
  },
  {
   "cell_type": "code",
   "execution_count": 17,
   "metadata": {
    "collapsed": false
   },
   "outputs": [],
   "source": [
    "squeezenet_1_1_clblast_mali_overlay_tags = 'chromebook2,time,caffemodel,squeezenet-1.1,clblast,vmali-overlay'\n",
    "squeezenet_1_1_clblast_mali_overlay_results = search_experimental_points_by_tags(squeezenet_1_1_clblast_mali_overlay_tags)\n",
    "# analyze(squeezenet_1_1_clblast_mali_overlay_results)"
   ]
  },
  {
   "cell_type": "markdown",
   "metadata": {},
   "source": [
    "**NB:** Failures are being investigated."
   ]
  },
  {
   "cell_type": "markdown",
   "metadata": {},
   "source": [
    "#### SqueezeNet 1.1 / OpenBLAS"
   ]
  },
  {
   "cell_type": "code",
   "execution_count": 18,
   "metadata": {
    "collapsed": false
   },
   "outputs": [
    {
     "name": "stdout",
     "output_type": "stream",
     "text": [
      "Experimental results: raw\n"
     ]
    },
    {
     "data": {
      "text/html": [
       "<div>\n",
       "<table border=\"1\" class=\"dataframe\">\n",
       "  <thead>\n",
       "    <tr style=\"text-align: right;\">\n",
       "      <th>Batch size</th>\n",
       "      <th>1</th>\n",
       "      <th>2</th>\n",
       "      <th>3</th>\n",
       "      <th>4</th>\n",
       "    </tr>\n",
       "    <tr>\n",
       "      <th>Repetition</th>\n",
       "      <th></th>\n",
       "      <th></th>\n",
       "      <th></th>\n",
       "      <th></th>\n",
       "    </tr>\n",
       "  </thead>\n",
       "  <tbody>\n",
       "    <tr>\n",
       "      <th>0</th>\n",
       "      <td>136.650</td>\n",
       "      <td>283.784</td>\n",
       "      <td>475.356</td>\n",
       "      <td>574.729</td>\n",
       "    </tr>\n",
       "    <tr>\n",
       "      <th>1</th>\n",
       "      <td>217.693</td>\n",
       "      <td>289.290</td>\n",
       "      <td>425.667</td>\n",
       "      <td>555.904</td>\n",
       "    </tr>\n",
       "    <tr>\n",
       "      <th>2</th>\n",
       "      <td>225.273</td>\n",
       "      <td>276.657</td>\n",
       "      <td>413.146</td>\n",
       "      <td>546.859</td>\n",
       "    </tr>\n",
       "  </tbody>\n",
       "</table>\n",
       "</div>"
      ],
      "text/plain": [
       "Batch size        1        2        3        4\n",
       "Repetition                                    \n",
       "0           136.650  283.784  475.356  574.729\n",
       "1           217.693  289.290  425.667  555.904\n",
       "2           225.273  276.657  413.146  546.859"
      ]
     },
     "metadata": {},
     "output_type": "display_data"
    },
    {
     "name": "stdout",
     "output_type": "stream",
     "text": [
      "Experimental results: stats\n"
     ]
    },
    {
     "data": {
      "text/html": [
       "<div>\n",
       "<table border=\"1\" class=\"dataframe\">\n",
       "  <thead>\n",
       "    <tr style=\"text-align: right;\">\n",
       "      <th>Batch size</th>\n",
       "      <th>1</th>\n",
       "      <th>2</th>\n",
       "      <th>3</th>\n",
       "      <th>4</th>\n",
       "    </tr>\n",
       "  </thead>\n",
       "  <tbody>\n",
       "    <tr>\n",
       "      <th>count</th>\n",
       "      <td>3.000000</td>\n",
       "      <td>3.000000</td>\n",
       "      <td>3.000000</td>\n",
       "      <td>3.00000</td>\n",
       "    </tr>\n",
       "    <tr>\n",
       "      <th>mean</th>\n",
       "      <td>193.205333</td>\n",
       "      <td>283.243667</td>\n",
       "      <td>438.056333</td>\n",
       "      <td>559.16400</td>\n",
       "    </tr>\n",
       "    <tr>\n",
       "      <th>std</th>\n",
       "      <td>49.124774</td>\n",
       "      <td>6.333809</td>\n",
       "      <td>32.903536</td>\n",
       "      <td>14.21812</td>\n",
       "    </tr>\n",
       "    <tr>\n",
       "      <th>min</th>\n",
       "      <td>136.650000</td>\n",
       "      <td>276.657000</td>\n",
       "      <td>413.146000</td>\n",
       "      <td>546.85900</td>\n",
       "    </tr>\n",
       "    <tr>\n",
       "      <th>25%</th>\n",
       "      <td>177.171500</td>\n",
       "      <td>280.220500</td>\n",
       "      <td>419.406500</td>\n",
       "      <td>551.38150</td>\n",
       "    </tr>\n",
       "    <tr>\n",
       "      <th>50%</th>\n",
       "      <td>217.693000</td>\n",
       "      <td>283.784000</td>\n",
       "      <td>425.667000</td>\n",
       "      <td>555.90400</td>\n",
       "    </tr>\n",
       "    <tr>\n",
       "      <th>75%</th>\n",
       "      <td>221.483000</td>\n",
       "      <td>286.537000</td>\n",
       "      <td>450.511500</td>\n",
       "      <td>565.31650</td>\n",
       "    </tr>\n",
       "    <tr>\n",
       "      <th>max</th>\n",
       "      <td>225.273000</td>\n",
       "      <td>289.290000</td>\n",
       "      <td>475.356000</td>\n",
       "      <td>574.72900</td>\n",
       "    </tr>\n",
       "    <tr>\n",
       "      <th>mean per image</th>\n",
       "      <td>193.205333</td>\n",
       "      <td>141.621833</td>\n",
       "      <td>146.018778</td>\n",
       "      <td>139.79100</td>\n",
       "    </tr>\n",
       "    <tr>\n",
       "      <th>std per image</th>\n",
       "      <td>49.124774</td>\n",
       "      <td>3.166905</td>\n",
       "      <td>10.967845</td>\n",
       "      <td>3.55453</td>\n",
       "    </tr>\n",
       "  </tbody>\n",
       "</table>\n",
       "</div>"
      ],
      "text/plain": [
       "Batch size               1           2           3          4\n",
       "count             3.000000    3.000000    3.000000    3.00000\n",
       "mean            193.205333  283.243667  438.056333  559.16400\n",
       "std              49.124774    6.333809   32.903536   14.21812\n",
       "min             136.650000  276.657000  413.146000  546.85900\n",
       "25%             177.171500  280.220500  419.406500  551.38150\n",
       "50%             217.693000  283.784000  425.667000  555.90400\n",
       "75%             221.483000  286.537000  450.511500  565.31650\n",
       "max             225.273000  289.290000  475.356000  574.72900\n",
       "mean per image  193.205333  141.621833  146.018778  139.79100\n",
       "std per image    49.124774    3.166905   10.967845    3.55453"
      ]
     },
     "metadata": {},
     "output_type": "display_data"
    },
    {
     "name": "stdout",
     "output_type": "stream",
     "text": [
      "Minimum time per image: batch size = 4, mean = 139.79, std = 3.55\n"
     ]
    },
    {
     "data": {
      "image/png": "[encoded data removed]",
      "text/plain": [
       "<matplotlib.figure.Figure at 0xaca60710>"
      ]
     },
     "metadata": {},
     "output_type": "display_data"
    }
   ],
   "source": [
    "squeezenet_1_1_openblas_tags = 'chromebook2,time,caffemodel,squeezenet-1.1,openblas'\n",
    "squeezenet_1_1_openblas_results = search_experimental_points_by_tags(squeezenet_1_1_openblas_tags)\n",
    "analyze(squeezenet_1_1_openblas_results)"
   ]
  },
  {
   "cell_type": "markdown",
   "metadata": {},
   "source": [
    "### GoogleNet"
   ]
  },
  {
   "cell_type": "markdown",
   "metadata": {},
   "source": [
    "#### GoogleNet / clBLAS"
   ]
  },
  {
   "cell_type": "code",
   "execution_count": 19,
   "metadata": {
    "collapsed": false
   },
   "outputs": [
    {
     "name": "stdout",
     "output_type": "stream",
     "text": [
      "Experimental results: raw\n"
     ]
    },
    {
     "data": {
      "text/html": [
       "<div>\n",
       "<table border=\"1\" class=\"dataframe\">\n",
       "  <thead>\n",
       "    <tr style=\"text-align: right;\">\n",
       "      <th>Batch size</th>\n",
       "      <th>1</th>\n",
       "      <th>2</th>\n",
       "      <th>3</th>\n",
       "      <th>4</th>\n",
       "    </tr>\n",
       "    <tr>\n",
       "      <th>Repetition</th>\n",
       "      <th></th>\n",
       "      <th></th>\n",
       "      <th></th>\n",
       "      <th></th>\n",
       "    </tr>\n",
       "  </thead>\n",
       "  <tbody>\n",
       "    <tr>\n",
       "      <th>0</th>\n",
       "      <td>999.882</td>\n",
       "      <td>1788.46</td>\n",
       "      <td>2590.40</td>\n",
       "      <td>3378.85</td>\n",
       "    </tr>\n",
       "    <tr>\n",
       "      <th>1</th>\n",
       "      <td>999.157</td>\n",
       "      <td>1802.06</td>\n",
       "      <td>2568.09</td>\n",
       "      <td>3335.89</td>\n",
       "    </tr>\n",
       "    <tr>\n",
       "      <th>2</th>\n",
       "      <td>953.876</td>\n",
       "      <td>1781.46</td>\n",
       "      <td>2602.13</td>\n",
       "      <td>3327.64</td>\n",
       "    </tr>\n",
       "  </tbody>\n",
       "</table>\n",
       "</div>"
      ],
      "text/plain": [
       "Batch size        1        2        3        4\n",
       "Repetition                                    \n",
       "0           999.882  1788.46  2590.40  3378.85\n",
       "1           999.157  1802.06  2568.09  3335.89\n",
       "2           953.876  1781.46  2602.13  3327.64"
      ]
     },
     "metadata": {},
     "output_type": "display_data"
    },
    {
     "name": "stdout",
     "output_type": "stream",
     "text": [
      "Experimental results: stats\n"
     ]
    },
    {
     "data": {
      "text/html": [
       "<div>\n",
       "<table border=\"1\" class=\"dataframe\">\n",
       "  <thead>\n",
       "    <tr style=\"text-align: right;\">\n",
       "      <th>Batch size</th>\n",
       "      <th>1</th>\n",
       "      <th>2</th>\n",
       "      <th>3</th>\n",
       "      <th>4</th>\n",
       "    </tr>\n",
       "  </thead>\n",
       "  <tbody>\n",
       "    <tr>\n",
       "      <th>count</th>\n",
       "      <td>3.00000</td>\n",
       "      <td>3.000000</td>\n",
       "      <td>3.000000</td>\n",
       "      <td>3.000000</td>\n",
       "    </tr>\n",
       "    <tr>\n",
       "      <th>mean</th>\n",
       "      <td>984.30500</td>\n",
       "      <td>1790.660000</td>\n",
       "      <td>2586.873333</td>\n",
       "      <td>3347.460000</td>\n",
       "    </tr>\n",
       "    <tr>\n",
       "      <th>std</th>\n",
       "      <td>26.35478</td>\n",
       "      <td>10.474732</td>\n",
       "      <td>17.291860</td>\n",
       "      <td>27.495721</td>\n",
       "    </tr>\n",
       "    <tr>\n",
       "      <th>min</th>\n",
       "      <td>953.87600</td>\n",
       "      <td>1781.460000</td>\n",
       "      <td>2568.090000</td>\n",
       "      <td>3327.640000</td>\n",
       "    </tr>\n",
       "    <tr>\n",
       "      <th>25%</th>\n",
       "      <td>976.51650</td>\n",
       "      <td>1784.960000</td>\n",
       "      <td>2579.245000</td>\n",
       "      <td>3331.765000</td>\n",
       "    </tr>\n",
       "    <tr>\n",
       "      <th>50%</th>\n",
       "      <td>999.15700</td>\n",
       "      <td>1788.460000</td>\n",
       "      <td>2590.400000</td>\n",
       "      <td>3335.890000</td>\n",
       "    </tr>\n",
       "    <tr>\n",
       "      <th>75%</th>\n",
       "      <td>999.51950</td>\n",
       "      <td>1795.260000</td>\n",
       "      <td>2596.265000</td>\n",
       "      <td>3357.370000</td>\n",
       "    </tr>\n",
       "    <tr>\n",
       "      <th>max</th>\n",
       "      <td>999.88200</td>\n",
       "      <td>1802.060000</td>\n",
       "      <td>2602.130000</td>\n",
       "      <td>3378.850000</td>\n",
       "    </tr>\n",
       "    <tr>\n",
       "      <th>mean per image</th>\n",
       "      <td>984.30500</td>\n",
       "      <td>895.330000</td>\n",
       "      <td>862.291111</td>\n",
       "      <td>836.865000</td>\n",
       "    </tr>\n",
       "    <tr>\n",
       "      <th>std per image</th>\n",
       "      <td>26.35478</td>\n",
       "      <td>5.237366</td>\n",
       "      <td>5.763953</td>\n",
       "      <td>6.873930</td>\n",
       "    </tr>\n",
       "  </tbody>\n",
       "</table>\n",
       "</div>"
      ],
      "text/plain": [
       "Batch size              1            2            3            4\n",
       "count             3.00000     3.000000     3.000000     3.000000\n",
       "mean            984.30500  1790.660000  2586.873333  3347.460000\n",
       "std              26.35478    10.474732    17.291860    27.495721\n",
       "min             953.87600  1781.460000  2568.090000  3327.640000\n",
       "25%             976.51650  1784.960000  2579.245000  3331.765000\n",
       "50%             999.15700  1788.460000  2590.400000  3335.890000\n",
       "75%             999.51950  1795.260000  2596.265000  3357.370000\n",
       "max             999.88200  1802.060000  2602.130000  3378.850000\n",
       "mean per image  984.30500   895.330000   862.291111   836.865000\n",
       "std per image    26.35478     5.237366     5.763953     6.873930"
      ]
     },
     "metadata": {},
     "output_type": "display_data"
    },
    {
     "name": "stdout",
     "output_type": "stream",
     "text": [
      "Minimum time per image: batch size = 4, mean = 836.86, std = 6.87\n"
     ]
    },
    {
     "data": {
      "image/png": "[encoded data removed]",
      "text/plain": [
       "<matplotlib.figure.Figure at 0xacedd7f0>"
      ]
     },
     "metadata": {},
     "output_type": "display_data"
    }
   ],
   "source": [
    "googlenet_clblas_tags = 'chromebook2,time,caffemodel,googlenet,clblas'\n",
    "googlenet_clblas_results = search_experimental_points_by_tags(googlenet_clblas_tags)\n",
    "analyze(googlenet_clblas_results)"
   ]
  },
  {
   "cell_type": "markdown",
   "metadata": {},
   "source": [
    "#### GoogleNet / CLBlast dev"
   ]
  },
  {
   "cell_type": "code",
   "execution_count": 20,
   "metadata": {
    "collapsed": false
   },
   "outputs": [
    {
     "name": "stdout",
     "output_type": "stream",
     "text": [
      "Experimental results: raw\n"
     ]
    },
    {
     "data": {
      "text/html": [
       "<div>\n",
       "<table border=\"1\" class=\"dataframe\">\n",
       "  <thead>\n",
       "    <tr style=\"text-align: right;\">\n",
       "      <th>Batch size</th>\n",
       "      <th>1</th>\n",
       "      <th>2</th>\n",
       "      <th>3</th>\n",
       "      <th>4</th>\n",
       "    </tr>\n",
       "    <tr>\n",
       "      <th>Repetition</th>\n",
       "      <th></th>\n",
       "      <th></th>\n",
       "      <th></th>\n",
       "      <th></th>\n",
       "    </tr>\n",
       "  </thead>\n",
       "  <tbody>\n",
       "    <tr>\n",
       "      <th>0</th>\n",
       "      <td>1207.05</td>\n",
       "      <td>2395.89</td>\n",
       "      <td>3509.58</td>\n",
       "      <td>4431.53</td>\n",
       "    </tr>\n",
       "    <tr>\n",
       "      <th>1</th>\n",
       "      <td>1338.20</td>\n",
       "      <td>2398.48</td>\n",
       "      <td>3357.00</td>\n",
       "      <td>4321.79</td>\n",
       "    </tr>\n",
       "    <tr>\n",
       "      <th>2</th>\n",
       "      <td>1227.45</td>\n",
       "      <td>2417.00</td>\n",
       "      <td>3381.19</td>\n",
       "      <td>4515.95</td>\n",
       "    </tr>\n",
       "  </tbody>\n",
       "</table>\n",
       "</div>"
      ],
      "text/plain": [
       "Batch size        1        2        3        4\n",
       "Repetition                                    \n",
       "0           1207.05  2395.89  3509.58  4431.53\n",
       "1           1338.20  2398.48  3357.00  4321.79\n",
       "2           1227.45  2417.00  3381.19  4515.95"
      ]
     },
     "metadata": {},
     "output_type": "display_data"
    },
    {
     "name": "stdout",
     "output_type": "stream",
     "text": [
      "Experimental results: stats\n"
     ]
    },
    {
     "data": {
      "text/html": [
       "<div>\n",
       "<table border=\"1\" class=\"dataframe\">\n",
       "  <thead>\n",
       "    <tr style=\"text-align: right;\">\n",
       "      <th>Batch size</th>\n",
       "      <th>1</th>\n",
       "      <th>2</th>\n",
       "      <th>3</th>\n",
       "      <th>4</th>\n",
       "    </tr>\n",
       "  </thead>\n",
       "  <tbody>\n",
       "    <tr>\n",
       "      <th>count</th>\n",
       "      <td>3.000000</td>\n",
       "      <td>3.000000</td>\n",
       "      <td>3.000000</td>\n",
       "      <td>3.000000</td>\n",
       "    </tr>\n",
       "    <tr>\n",
       "      <th>mean</th>\n",
       "      <td>1257.566667</td>\n",
       "      <td>2403.790000</td>\n",
       "      <td>3415.923333</td>\n",
       "      <td>4423.090000</td>\n",
       "    </tr>\n",
       "    <tr>\n",
       "      <th>std</th>\n",
       "      <td>70.571530</td>\n",
       "      <td>11.513258</td>\n",
       "      <td>82.005899</td>\n",
       "      <td>97.354772</td>\n",
       "    </tr>\n",
       "    <tr>\n",
       "      <th>min</th>\n",
       "      <td>1207.050000</td>\n",
       "      <td>2395.890000</td>\n",
       "      <td>3357.000000</td>\n",
       "      <td>4321.790000</td>\n",
       "    </tr>\n",
       "    <tr>\n",
       "      <th>25%</th>\n",
       "      <td>1217.250000</td>\n",
       "      <td>2397.185000</td>\n",
       "      <td>3369.095000</td>\n",
       "      <td>4376.660000</td>\n",
       "    </tr>\n",
       "    <tr>\n",
       "      <th>50%</th>\n",
       "      <td>1227.450000</td>\n",
       "      <td>2398.480000</td>\n",
       "      <td>3381.190000</td>\n",
       "      <td>4431.530000</td>\n",
       "    </tr>\n",
       "    <tr>\n",
       "      <th>75%</th>\n",
       "      <td>1282.825000</td>\n",
       "      <td>2407.740000</td>\n",
       "      <td>3445.385000</td>\n",
       "      <td>4473.740000</td>\n",
       "    </tr>\n",
       "    <tr>\n",
       "      <th>max</th>\n",
       "      <td>1338.200000</td>\n",
       "      <td>2417.000000</td>\n",
       "      <td>3509.580000</td>\n",
       "      <td>4515.950000</td>\n",
       "    </tr>\n",
       "    <tr>\n",
       "      <th>mean per image</th>\n",
       "      <td>1257.566667</td>\n",
       "      <td>1201.895000</td>\n",
       "      <td>1138.641111</td>\n",
       "      <td>1105.772500</td>\n",
       "    </tr>\n",
       "    <tr>\n",
       "      <th>std per image</th>\n",
       "      <td>70.571530</td>\n",
       "      <td>5.756629</td>\n",
       "      <td>27.335300</td>\n",
       "      <td>24.338693</td>\n",
       "    </tr>\n",
       "  </tbody>\n",
       "</table>\n",
       "</div>"
      ],
      "text/plain": [
       "Batch size                1            2            3            4\n",
       "count              3.000000     3.000000     3.000000     3.000000\n",
       "mean            1257.566667  2403.790000  3415.923333  4423.090000\n",
       "std               70.571530    11.513258    82.005899    97.354772\n",
       "min             1207.050000  2395.890000  3357.000000  4321.790000\n",
       "25%             1217.250000  2397.185000  3369.095000  4376.660000\n",
       "50%             1227.450000  2398.480000  3381.190000  4431.530000\n",
       "75%             1282.825000  2407.740000  3445.385000  4473.740000\n",
       "max             1338.200000  2417.000000  3509.580000  4515.950000\n",
       "mean per image  1257.566667  1201.895000  1138.641111  1105.772500\n",
       "std per image     70.571530     5.756629    27.335300    24.338693"
      ]
     },
     "metadata": {},
     "output_type": "display_data"
    },
    {
     "name": "stdout",
     "output_type": "stream",
     "text": [
      "Minimum time per image: batch size = 4, mean = 1105.77, std = 24.34\n"
     ]
    },
    {
     "data": {
      "image/png": "[encoded data removed]",
      "text/plain": [
       "<matplotlib.figure.Figure at 0xacf04810>"
      ]
     },
     "metadata": {},
     "output_type": "display_data"
    }
   ],
   "source": [
    "googlenet_clblast_development_tags = 'chromebook2,time,caffemodel,googlenet,clblast,vdevelopment'\n",
    "googlenet_clblast_development_results = search_experimental_points_by_tags(googlenet_clblast_development_tags)\n",
    "analyze(googlenet_clblast_development_results)"
   ]
  },
  {
   "cell_type": "markdown",
   "metadata": {},
   "source": [
    "#### GoogleNet / CLBlast dev with Mali-optimized overlay"
   ]
  },
  {
   "cell_type": "code",
   "execution_count": 21,
   "metadata": {
    "collapsed": false
   },
   "outputs": [],
   "source": [
    "googlenet_clblast_mali_overlay_tags = 'chromebook2,time,caffemodel,googlenet,clblast,vmali-overlay'\n",
    "googlenet_clblast_mali_overlay_results = search_experimental_points_by_tags(googlenet_clblast_mali_overlay_tags)\n",
    "# analyze(googlenet_clblast_mali_overlay_results)"
   ]
  },
  {
   "cell_type": "markdown",
   "metadata": {},
   "source": [
    "**NB:** Failures are being investigated."
   ]
  },
  {
   "cell_type": "markdown",
   "metadata": {},
   "source": [
    "#### GoogleNet / OpenBLAS"
   ]
  },
  {
   "cell_type": "code",
   "execution_count": 22,
   "metadata": {
    "collapsed": false
   },
   "outputs": [
    {
     "name": "stdout",
     "output_type": "stream",
     "text": [
      "Experimental results: raw\n"
     ]
    },
    {
     "data": {
      "text/html": [
       "<div>\n",
       "<table border=\"1\" class=\"dataframe\">\n",
       "  <thead>\n",
       "    <tr style=\"text-align: right;\">\n",
       "      <th>Batch size</th>\n",
       "      <th>1</th>\n",
       "      <th>2</th>\n",
       "      <th>3</th>\n",
       "      <th>4</th>\n",
       "    </tr>\n",
       "    <tr>\n",
       "      <th>Repetition</th>\n",
       "      <th></th>\n",
       "      <th></th>\n",
       "      <th></th>\n",
       "      <th></th>\n",
       "    </tr>\n",
       "  </thead>\n",
       "  <tbody>\n",
       "    <tr>\n",
       "      <th>0</th>\n",
       "      <td>642.151</td>\n",
       "      <td>1837.60</td>\n",
       "      <td>2323.35</td>\n",
       "      <td>2457.15</td>\n",
       "    </tr>\n",
       "    <tr>\n",
       "      <th>1</th>\n",
       "      <td>765.678</td>\n",
       "      <td>1114.54</td>\n",
       "      <td>2472.54</td>\n",
       "      <td>2809.89</td>\n",
       "    </tr>\n",
       "    <tr>\n",
       "      <th>2</th>\n",
       "      <td>643.057</td>\n",
       "      <td>1524.18</td>\n",
       "      <td>1981.70</td>\n",
       "      <td>2565.39</td>\n",
       "    </tr>\n",
       "  </tbody>\n",
       "</table>\n",
       "</div>"
      ],
      "text/plain": [
       "Batch size        1        2        3        4\n",
       "Repetition                                    \n",
       "0           642.151  1837.60  2323.35  2457.15\n",
       "1           765.678  1114.54  2472.54  2809.89\n",
       "2           643.057  1524.18  1981.70  2565.39"
      ]
     },
     "metadata": {},
     "output_type": "display_data"
    },
    {
     "name": "stdout",
     "output_type": "stream",
     "text": [
      "Experimental results: stats\n"
     ]
    },
    {
     "data": {
      "text/html": [
       "<div>\n",
       "<table border=\"1\" class=\"dataframe\">\n",
       "  <thead>\n",
       "    <tr style=\"text-align: right;\">\n",
       "      <th>Batch size</th>\n",
       "      <th>1</th>\n",
       "      <th>2</th>\n",
       "      <th>3</th>\n",
       "      <th>4</th>\n",
       "    </tr>\n",
       "  </thead>\n",
       "  <tbody>\n",
       "    <tr>\n",
       "      <th>count</th>\n",
       "      <td>3.000000</td>\n",
       "      <td>3.000000</td>\n",
       "      <td>3.000000</td>\n",
       "      <td>3.000000</td>\n",
       "    </tr>\n",
       "    <tr>\n",
       "      <th>mean</th>\n",
       "      <td>683.628667</td>\n",
       "      <td>1492.106667</td>\n",
       "      <td>2259.196667</td>\n",
       "      <td>2610.810000</td>\n",
       "    </tr>\n",
       "    <tr>\n",
       "      <th>std</th>\n",
       "      <td>71.058251</td>\n",
       "      <td>362.595456</td>\n",
       "      <td>251.630114</td>\n",
       "      <td>180.703097</td>\n",
       "    </tr>\n",
       "    <tr>\n",
       "      <th>min</th>\n",
       "      <td>642.151000</td>\n",
       "      <td>1114.540000</td>\n",
       "      <td>1981.700000</td>\n",
       "      <td>2457.150000</td>\n",
       "    </tr>\n",
       "    <tr>\n",
       "      <th>25%</th>\n",
       "      <td>642.604000</td>\n",
       "      <td>1319.360000</td>\n",
       "      <td>2152.525000</td>\n",
       "      <td>2511.270000</td>\n",
       "    </tr>\n",
       "    <tr>\n",
       "      <th>50%</th>\n",
       "      <td>643.057000</td>\n",
       "      <td>1524.180000</td>\n",
       "      <td>2323.350000</td>\n",
       "      <td>2565.390000</td>\n",
       "    </tr>\n",
       "    <tr>\n",
       "      <th>75%</th>\n",
       "      <td>704.367500</td>\n",
       "      <td>1680.890000</td>\n",
       "      <td>2397.945000</td>\n",
       "      <td>2687.640000</td>\n",
       "    </tr>\n",
       "    <tr>\n",
       "      <th>max</th>\n",
       "      <td>765.678000</td>\n",
       "      <td>1837.600000</td>\n",
       "      <td>2472.540000</td>\n",
       "      <td>2809.890000</td>\n",
       "    </tr>\n",
       "    <tr>\n",
       "      <th>mean per image</th>\n",
       "      <td>683.628667</td>\n",
       "      <td>746.053333</td>\n",
       "      <td>753.065556</td>\n",
       "      <td>652.702500</td>\n",
       "    </tr>\n",
       "    <tr>\n",
       "      <th>std per image</th>\n",
       "      <td>71.058251</td>\n",
       "      <td>181.297728</td>\n",
       "      <td>83.876705</td>\n",
       "      <td>45.175774</td>\n",
       "    </tr>\n",
       "  </tbody>\n",
       "</table>\n",
       "</div>"
      ],
      "text/plain": [
       "Batch size               1            2            3            4\n",
       "count             3.000000     3.000000     3.000000     3.000000\n",
       "mean            683.628667  1492.106667  2259.196667  2610.810000\n",
       "std              71.058251   362.595456   251.630114   180.703097\n",
       "min             642.151000  1114.540000  1981.700000  2457.150000\n",
       "25%             642.604000  1319.360000  2152.525000  2511.270000\n",
       "50%             643.057000  1524.180000  2323.350000  2565.390000\n",
       "75%             704.367500  1680.890000  2397.945000  2687.640000\n",
       "max             765.678000  1837.600000  2472.540000  2809.890000\n",
       "mean per image  683.628667   746.053333   753.065556   652.702500\n",
       "std per image    71.058251   181.297728    83.876705    45.175774"
      ]
     },
     "metadata": {},
     "output_type": "display_data"
    },
    {
     "name": "stdout",
     "output_type": "stream",
     "text": [
      "Minimum time per image: batch size = 4, mean = 652.70, std = 45.18\n"
     ]
    },
    {
     "data": {
      "image/png": "[encoded data removed]",
      "text/plain": [
       "<matplotlib.figure.Figure at 0xacedd4d0>"
      ]
     },
     "metadata": {},
     "output_type": "display_data"
    }
   ],
   "source": [
    "googlenet_openblas_tags = 'chromebook2,time,caffemodel,googlenet,openblas'\n",
    "googlenet_openblas_results = search_experimental_points_by_tags(googlenet_openblas_tags)\n",
    "analyze(googlenet_openblas_results)"
   ]
  }
 ],
 "metadata": {
  "kernelspec": {
   "display_name": "Python 2",
   "language": "python",
   "name": "python2"
  },
  "language_info": {
   "codemirror_mode": {
    "name": "ipython",
    "version": 2
   },
   "file_extension": ".py",
   "mimetype": "text/x-python",
   "name": "python",
   "nbconvert_exporter": "python",
   "pygments_lexer": "ipython2",
   "version": "2.7.12"
  }
 },
 "nbformat": 4,
 "nbformat_minor": 0
}
